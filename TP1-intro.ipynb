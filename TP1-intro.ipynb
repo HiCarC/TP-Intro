{
 "cells": [
  {
   "cell_type": "markdown",
   "metadata": {},
   "source": [
    "# Basics of NLP: DataFrame rudiments and spaCy"
   ]
  },
  {
   "cell_type": "markdown",
   "metadata": {},
   "source": [
    "## Libraries \n",
    "\n",
    "We will consider a corpus of radio recordings in french (source: France inter, RFI, ...) :  RADIOS.txt\n"
   ]
  },
  {
   "cell_type": "markdown",
   "metadata": {},
   "source": [
    "The first step in writing python code is determining which libraries we want to use. To stay organized, we generally import all libraries at the top (of a notebook or a standalone python file)."
   ]
  },
  {
   "cell_type": "code",
   "execution_count": 2,
   "metadata": {},
   "outputs": [],
   "source": [
    "#import four important libraries\n",
    "import pandas as pd\n",
    "#pandas is the most popular data science library. It is used\n",
    "#for organizing data into columns.\n",
    "#See more here: https://pandas.pydata.org/\n",
    "\n",
    "import re\n",
    "#re is the python library for regular expressions. It is\n",
    "#difficult to master, but very useful.\n",
    "#See more here: https://docs.python.org/3/library/re.html\n",
    "\n",
    "import matplotlib.pyplot as plt\n",
    "#matplotlib is the most popular and simple library for\n",
    "#scientific plots in python. The pyplot submodule is\n",
    "#a data scientist's bread and butter for data visualization.\n",
    "#See more here: https://matplotlib.org/2.0.2/api/pyplot_api.html\n",
    "\n",
    "import xml.etree.ElementTree as ET\n",
    "#ElementTree is a library for parsing XML in python.\n",
    "#This is a useful skill for data scientists, as lots of data\n",
    "#is published in XML form. There are other libraries for this,\n",
    "#such as untangle or xmltodict; however, ElementTree is lower level.\n",
    "#See more here: https://docs.python.org/3/library/xml.etree.elementtree.html\n",
    "\n",
    "from numpy import log\n",
    "#we will need a logarithm function; numpy is a standard mathematical\n",
    "#library"
   ]
  },
  {
   "cell_type": "markdown",
   "metadata": {},
   "source": [
    "## Pandas Dataframe basics\n",
    "\n",
    "In this TP we use Pandas [DataFrames](https://pandas.pydata.org/docs/reference/api/pandas.DataFrame.html) to manage our dataset. Pandas is a standard tool in data science."
   ]
  },
  {
   "cell_type": "code",
   "execution_count": 4,
   "metadata": {},
   "outputs": [],
   "source": [
    "#read the dataset as a DataFrame\n",
    "df_radios = pd.read_csv('RADIOS.txt', names=['text'])"
   ]
  },
  {
   "cell_type": "code",
   "execution_count": 5,
   "metadata": {},
   "outputs": [
    {
     "name": "stdout",
     "output_type": "stream",
     "text": [
      "35356\n"
     ]
    },
    {
     "data": {
      "text/html": [
       "<div>\n",
       "<style scoped>\n",
       "    .dataframe tbody tr th:only-of-type {\n",
       "        vertical-align: middle;\n",
       "    }\n",
       "\n",
       "    .dataframe tbody tr th {\n",
       "        vertical-align: top;\n",
       "    }\n",
       "\n",
       "    .dataframe thead th {\n",
       "        text-align: right;\n",
       "    }\n",
       "</style>\n",
       "<table border=\"1\" class=\"dataframe\">\n",
       "  <thead>\n",
       "    <tr style=\"text-align: right;\">\n",
       "      <th></th>\n",
       "      <th>text</th>\n",
       "    </tr>\n",
       "  </thead>\n",
       "  <tbody>\n",
       "    <tr>\n",
       "      <th>0</th>\n",
       "      <td>patricia martin que voici que voilà</td>\n",
       "    </tr>\n",
       "    <tr>\n",
       "      <th>1</th>\n",
       "      <td>oh bonjour nicolas stoufflet</td>\n",
       "    </tr>\n",
       "    <tr>\n",
       "      <th>2</th>\n",
       "      <td>france-inter sept heures</td>\n",
       "    </tr>\n",
       "    <tr>\n",
       "      <th>3</th>\n",
       "      <td>le journal simon tivolle</td>\n",
       "    </tr>\n",
       "    <tr>\n",
       "      <th>4</th>\n",
       "      <td>bonjour</td>\n",
       "    </tr>\n",
       "  </tbody>\n",
       "</table>\n",
       "</div>"
      ],
      "text/plain": [
       "                                  text\n",
       "0  patricia martin que voici que voilà\n",
       "1         oh bonjour nicolas stoufflet\n",
       "2             france-inter sept heures\n",
       "3             le journal simon tivolle\n",
       "4                              bonjour"
      ]
     },
     "execution_count": 5,
     "metadata": {},
     "output_type": "execute_result"
    }
   ],
   "source": [
    "print(len(df_radios))\n",
    "df_radios.head()"
   ]
  },
  {
   "cell_type": "markdown",
   "metadata": {},
   "source": [
    "We can list the columns of a dataset ````df```` by calling ````df.columns````.\n",
    "\n",
    "**Question**: What are the columns of the dataset ````df_radios````?"
   ]
  },
  {
   "cell_type": "code",
   "execution_count": null,
   "metadata": {},
   "outputs": [],
   "source": [
    "df_radios.columns\n",
    "#todo: explain each column"
   ]
  },
  {
   "cell_type": "markdown",
   "metadata": {},
   "source": [
    "We can access to a specific using ````df.loc[i]```` or ````df.iloc[i]```` \n",
    "\n",
    "\n",
    "**Question**: What is the difference between .loc and .iloc?"
   ]
  },
  {
   "cell_type": "code",
   "execution_count": 11,
   "metadata": {},
   "outputs": [
    {
     "data": {
      "text/plain": [
       "'bonjour'"
      ]
     },
     "execution_count": 11,
     "metadata": {},
     "output_type": "execute_result"
    }
   ],
   "source": [
    "#todo: save the text value of the 5th element of our dataset into the one_text variable. \n",
    "one_text = df_radios.iloc[4].text #todo \n",
    "one_text"
   ]
  },
  {
   "cell_type": "markdown",
   "metadata": {},
   "source": [
    "We can count the number of words in a string using the ````len```` function and ````split```` method of strings. For example:\n",
    "\n",
    "\n",
    "```\n",
    "string = \"bla bla bla\"\n",
    "len(string.split(\" \"))\n",
    ">>> 3\n",
    "```\n",
    "\n",
    "**Question**: Fill in the following function and run it for a our ````one_text```` example. \n",
    "\n",
    "\n",
    "\n",
    "\n"
   ]
  },
  {
   "cell_type": "code",
   "execution_count": 12,
   "metadata": {},
   "outputs": [
    {
     "data": {
      "text/plain": [
       "1"
      ]
     },
     "execution_count": 12,
     "metadata": {},
     "output_type": "execute_result"
    }
   ],
   "source": [
    "def num_words(sentence):\n",
    "    '''\n",
    "    Calculate the number of words in the sentence.\n",
    "    '''\n",
    "    return len(sentence.split(\" \"))\n",
    "\n",
    "num_words(one_text)"
   ]
  },
  {
   "cell_type": "markdown",
   "metadata": {},
   "source": [
    "\n",
    "Furthermore, we can calculate values for each row, based on a specific column, using the ````apply```` method:\n",
    "\n",
    "```\n",
    "lengths = df.column_name.apply(lambda text: num_words(text))\n",
    "```\n",
    "\n",
    "This will give us a [pandas Series](https://pandas.pydata.org/docs/reference/api/pandas.Series.html) of the lengths of each text.\n",
    "\n",
    "**Question**: Add the length of each text as a new column in the dataframe (see [pandas docs](https://pandas.pydata.org/docs/user_guide/dsintro.html#basics-dataframe-sel-add-del) for details). \n",
    "\n",
    "**Question**: What is the distribution of the length of the texts in words? Visualize this using a python plot (see [plt.hist](https://matplotlib.org/stable/api/_as_gen/matplotlib.pyplot.hist.html)).\n",
    "\n"
   ]
  },
  {
   "cell_type": "code",
   "execution_count": 15,
   "metadata": {},
   "outputs": [
    {
     "data": {
      "text/plain": [
       "(array([1.2295e+04, 9.6080e+03, 5.9810e+03, 3.1830e+03, 1.4720e+03,\n",
       "        8.0400e+02, 4.9600e+02, 3.2700e+02, 2.0900e+02, 1.4300e+02,\n",
       "        1.3100e+02, 1.0100e+02, 8.5000e+01, 8.4000e+01, 6.3000e+01,\n",
       "        5.0000e+01, 4.7000e+01, 2.7000e+01, 3.1000e+01, 3.6000e+01,\n",
       "        3.9000e+01, 1.4000e+01, 2.6000e+01, 1.2000e+01, 1.6000e+01,\n",
       "        1.0000e+01, 1.3000e+01, 9.0000e+00, 5.0000e+00, 2.0000e+00,\n",
       "        5.0000e+00, 3.0000e+00, 6.0000e+00, 2.0000e+00, 2.0000e+00,\n",
       "        2.0000e+00, 1.0000e+00, 0.0000e+00, 1.0000e+00, 1.0000e+00,\n",
       "        2.0000e+00, 0.0000e+00, 2.0000e+00, 2.0000e+00, 0.0000e+00,\n",
       "        2.0000e+00, 1.0000e+00, 1.0000e+00, 2.0000e+00, 0.0000e+00,\n",
       "        1.0000e+00, 0.0000e+00, 0.0000e+00, 0.0000e+00, 0.0000e+00,\n",
       "        0.0000e+00, 0.0000e+00, 0.0000e+00, 0.0000e+00, 0.0000e+00,\n",
       "        0.0000e+00, 0.0000e+00, 0.0000e+00, 0.0000e+00, 0.0000e+00,\n",
       "        0.0000e+00, 0.0000e+00, 0.0000e+00, 0.0000e+00, 0.0000e+00,\n",
       "        0.0000e+00, 0.0000e+00, 0.0000e+00, 0.0000e+00, 0.0000e+00,\n",
       "        0.0000e+00, 0.0000e+00, 0.0000e+00, 0.0000e+00, 0.0000e+00,\n",
       "        0.0000e+00, 0.0000e+00, 0.0000e+00, 0.0000e+00, 0.0000e+00,\n",
       "        0.0000e+00, 0.0000e+00, 0.0000e+00, 0.0000e+00, 0.0000e+00,\n",
       "        0.0000e+00, 0.0000e+00, 0.0000e+00, 0.0000e+00, 0.0000e+00,\n",
       "        0.0000e+00, 0.0000e+00, 0.0000e+00, 0.0000e+00, 1.0000e+00]),\n",
       " array([1.0000e+00, 1.2300e+01, 2.3600e+01, 3.4900e+01, 4.6200e+01,\n",
       "        5.7500e+01, 6.8800e+01, 8.0100e+01, 9.1400e+01, 1.0270e+02,\n",
       "        1.1400e+02, 1.2530e+02, 1.3660e+02, 1.4790e+02, 1.5920e+02,\n",
       "        1.7050e+02, 1.8180e+02, 1.9310e+02, 2.0440e+02, 2.1570e+02,\n",
       "        2.2700e+02, 2.3830e+02, 2.4960e+02, 2.6090e+02, 2.7220e+02,\n",
       "        2.8350e+02, 2.9480e+02, 3.0610e+02, 3.1740e+02, 3.2870e+02,\n",
       "        3.4000e+02, 3.5130e+02, 3.6260e+02, 3.7390e+02, 3.8520e+02,\n",
       "        3.9650e+02, 4.0780e+02, 4.1910e+02, 4.3040e+02, 4.4170e+02,\n",
       "        4.5300e+02, 4.6430e+02, 4.7560e+02, 4.8690e+02, 4.9820e+02,\n",
       "        5.0950e+02, 5.2080e+02, 5.3210e+02, 5.4340e+02, 5.5470e+02,\n",
       "        5.6600e+02, 5.7730e+02, 5.8860e+02, 5.9990e+02, 6.1120e+02,\n",
       "        6.2250e+02, 6.3380e+02, 6.4510e+02, 6.5640e+02, 6.6770e+02,\n",
       "        6.7900e+02, 6.9030e+02, 7.0160e+02, 7.1290e+02, 7.2420e+02,\n",
       "        7.3550e+02, 7.4680e+02, 7.5810e+02, 7.6940e+02, 7.8070e+02,\n",
       "        7.9200e+02, 8.0330e+02, 8.1460e+02, 8.2590e+02, 8.3720e+02,\n",
       "        8.4850e+02, 8.5980e+02, 8.7110e+02, 8.8240e+02, 8.9370e+02,\n",
       "        9.0500e+02, 9.1630e+02, 9.2760e+02, 9.3890e+02, 9.5020e+02,\n",
       "        9.6150e+02, 9.7280e+02, 9.8410e+02, 9.9540e+02, 1.0067e+03,\n",
       "        1.0180e+03, 1.0293e+03, 1.0406e+03, 1.0519e+03, 1.0632e+03,\n",
       "        1.0745e+03, 1.0858e+03, 1.0971e+03, 1.1084e+03, 1.1197e+03,\n",
       "        1.1310e+03]),\n",
       " <BarContainer object of 100 artists>)"
      ]
     },
     "execution_count": 15,
     "metadata": {},
     "output_type": "execute_result"
    },
    {
     "data": {
      "image/png": "[encoded data removed]",
      "text/plain": [
       "<Figure size 640x480 with 1 Axes>"
      ]
     },
     "metadata": {},
     "output_type": "display_data"
    }
   ],
   "source": [
    "# todo\n",
    "\n",
    "lengths = df_radios.text.apply(lambda text: num_words(text)) #todo \n",
    "\n",
    "## to plot \n",
    "plt.hist(lengths,bins=100) "
   ]
  },
  {
   "cell_type": "markdown",
   "metadata": {},
   "source": [
    "We can filter a dataframe using criteria based on values in certain columns. The basic syntax for this is:\n",
    "\n",
    "````\n",
    "new_df = df[df[\"column\"].apply(lambda row_value: my_func(row_value) == some_value)]\n",
    "````\n",
    "\n",
    "This gives a new DataFrame composed of all elements of ````df```` such the values of the function ````myfunc````, calculated for the value of column \"column\" for each row is equal to some_value. For example, if we wanted all rows that begin with \"a\", we could run:\n",
    "\n",
    "````\n",
    "df_letter_A = df[df[\"text\"].apply(lambda text: text[0] == \"a\")]\n",
    "````\n",
    "\n",
    "**Question**: Retain only documents with at least 50 words"
   ]
  },
  {
   "cell_type": "code",
   "execution_count": 16,
   "metadata": {},
   "outputs": [
    {
     "data": {
      "text/html": [
       "<div>\n",
       "<style scoped>\n",
       "    .dataframe tbody tr th:only-of-type {\n",
       "        vertical-align: middle;\n",
       "    }\n",
       "\n",
       "    .dataframe tbody tr th {\n",
       "        vertical-align: top;\n",
       "    }\n",
       "\n",
       "    .dataframe thead th {\n",
       "        text-align: right;\n",
       "    }\n",
       "</style>\n",
       "<table border=\"1\" class=\"dataframe\">\n",
       "  <thead>\n",
       "    <tr style=\"text-align: right;\">\n",
       "      <th></th>\n",
       "      <th>text</th>\n",
       "    </tr>\n",
       "  </thead>\n",
       "  <tbody>\n",
       "    <tr>\n",
       "      <th>34</th>\n",
       "      <td>il quitte l' école à douze ans pour aider son ...</td>\n",
       "    </tr>\n",
       "    <tr>\n",
       "      <th>42</th>\n",
       "      <td>selon jack lang césar était était l' une des f...</td>\n",
       "    </tr>\n",
       "    <tr>\n",
       "      <th>45</th>\n",
       "      <td>la chaîne de l' espoir c'est une association c...</td>\n",
       "    </tr>\n",
       "    <tr>\n",
       "      <th>46</th>\n",
       "      <td>l' association a été créée par un professeur e...</td>\n",
       "    </tr>\n",
       "    <tr>\n",
       "      <th>100</th>\n",
       "      <td>nicole notat est arrivée en trois ans à réduir...</td>\n",
       "    </tr>\n",
       "    <tr>\n",
       "      <th>...</th>\n",
       "      <td>...</td>\n",
       "    </tr>\n",
       "    <tr>\n",
       "      <th>35344</th>\n",
       "      <td>rappelons que le dix-sept juin dernier les reb...</td>\n",
       "    </tr>\n",
       "    <tr>\n",
       "      <th>35346</th>\n",
       "      <td>la tension est montée ces derniers jours entre...</td>\n",
       "    </tr>\n",
       "    <tr>\n",
       "      <th>35347</th>\n",
       "      <td>l' émir du koweït jaber al ahmed assabah a sép...</td>\n",
       "    </tr>\n",
       "    <tr>\n",
       "      <th>35349</th>\n",
       "      <td>la position de claudette est restée quasiment ...</td>\n",
       "    </tr>\n",
       "    <tr>\n",
       "      <th>35351</th>\n",
       "      <td>sport athlétisme pour terminer le triple champ...</td>\n",
       "    </tr>\n",
       "  </tbody>\n",
       "</table>\n",
       "<p>3773 rows × 1 columns</p>\n",
       "</div>"
      ],
      "text/plain": [
       "                                                    text\n",
       "34     il quitte l' école à douze ans pour aider son ...\n",
       "42     selon jack lang césar était était l' une des f...\n",
       "45     la chaîne de l' espoir c'est une association c...\n",
       "46     l' association a été créée par un professeur e...\n",
       "100    nicole notat est arrivée en trois ans à réduir...\n",
       "...                                                  ...\n",
       "35344  rappelons que le dix-sept juin dernier les reb...\n",
       "35346  la tension est montée ces derniers jours entre...\n",
       "35347  l' émir du koweït jaber al ahmed assabah a sép...\n",
       "35349  la position de claudette est restée quasiment ...\n",
       "35351  sport athlétisme pour terminer le triple champ...\n",
       "\n",
       "[3773 rows x 1 columns]"
      ]
     },
     "execution_count": 16,
     "metadata": {},
     "output_type": "execute_result"
    }
   ],
   "source": [
    "#todo\n",
    "df_radios[df_radios[\"text\"].apply(lambda row_value: num_words(row_value) >=50)]"
   ]
  },
  {
   "cell_type": "markdown",
   "metadata": {},
   "source": [
    "### Finding useful information in the text:\n",
    "\n",
    "We will implement regular expresions (regex) to filter the text according to a specific condiction. \n",
    "\n",
    "To implement the regex evaluation in Pandas we use the [`Series.str.contains`](https://pandas.pydata.org/pandas-docs/stable/reference/api/pandas.Series.str.contains.html) filtering function, as :\n",
    "\n",
    "```` df.column_name.str.contains('[a-z]', regex=True)````\n",
    "\n",
    "Also useful: `match`, `Series.str.startswith`, `Series.str.endswith`\n",
    "\n",
    "\n",
    "**Question**  : How many texts are there with at least one word of 9 letters in RADIOS.txt?\n",
    "\n",
    "**Question**  : Are there any texts with words without vowels in RADIOS.txt?\n",
    "\n",
    "\n",
    "You can use the following regexs : "
   ]
  },
  {
   "cell_type": "markdown",
   "metadata": {},
   "source": [
    "| regex | Description |\n",
    "|--------|--------------------|\n",
    "|`'[A-Z]'`|filtre lignes contenant une majuscule|\n",
    "|`'^[A-Z]'`|filtre lignes commençant par une majuscule|\n",
    "|`'[A-Z]$'`|filtre lignes finissant par une majuscule|\n",
    "|`'^[A-Z]*$'`|filtre lignes entièrement majuscules|\n",
    "|`'[aeiouAEIOU]'`|filtre lignes contenant une voyelle|\n",
    "|`'^[aeiouAEIOU]'`|filtre lignes commençant par une voyelle|\n",
    "|`'[aeiouAEIOU]$'`|filtre lignes finissant par une voyelle|\n",
    "|`'^[^aeiouAEIOU]'`|filtre lignes commençant par une non-voyelle|\n",
    "|`'[^aeiouAEIOU]$'`|filtre lignes finissant par une non-voyelle|\n",
    "|`'[aeiouAEIOU].*[aeiouAEIOU]'`|filtre lignes avec au moins deux voyelles|\n",
    "|`'^[^aeiouAEIOU]*[aeiouAEIOU][^aeiouAEIOU]*$'`| filtre lignes avec exactement une voyelle|\n",
    "\n",
    "Avec expressions régulières:\n",
    "\n",
    "| Expression | Match |\n",
    "|--------|--------------------|\n",
    "|`a`|la lettre \"a\"|\n",
    "|`[a-z]`|une lettre minuscule|\n",
    "|`[A-Z]`|une lettre majuscule|\n",
    "|`[0-9]`|un chiffre|\n",
    "|`[0123456789]`|un chiffre|\n",
    "|`[aeiouAEIOU]`|une voyelle|\n",
    "|`[^aeiouAEIOU]`|tout sauf une voyelle|\n",
    "|`.`|un caractère|\n",
    "|`^`|début de ligne|\n",
    "|`$`|fin de ligne|\n",
    "|`x*`| \"x\" répété 0 fois ou plus|\n",
    "|``x+``| \"x\" répété 1 fois ou plus|\n",
    "|`x\\|y`| \"x\" ou \"y\"|"
   ]
  },
  {
   "cell_type": "code",
   "execution_count": null,
   "metadata": {},
   "outputs": [],
   "source": [
    "## For example: \n",
    "df_radios['a-z'] = df_radios.text.str.contains('[a-z]', regex=True)\n",
    "df_radios[df_radios['a-z']]"
   ]
  },
  {
   "cell_type": "markdown",
   "metadata": {},
   "source": [
    "## Vocabulary \n",
    "\n",
    "We will create a a dictionary as the vocabulary for our corpus of texts. \n",
    "Create a dictionary where each key is a word and the value will be its frequency. \n",
    "\n",
    "```` texts_vocab = {'key1':value, 'key2':value} ````\n",
    "\n",
    "**Question** Create a Vocabulary of bigrams and trigrams \n",
    "\n",
    "**Question** How many different words exist in our corpus of texts?\n",
    "\n",
    "**Question**: What is the frequency distribution of the words? use ```plt.hist```\n",
    "\n",
    "**Question** [optional] How many bigrams and trigrams exist? Visualize the frequency distribution. \n",
    "\n"
   ]
  },
  {
   "cell_type": "code",
   "execution_count": null,
   "metadata": {},
   "outputs": [],
   "source": [
    "# todo "
   ]
  },
  {
   "cell_type": "markdown",
   "metadata": {},
   "source": [
    "## Introduction to spaCy"
   ]
  },
  {
   "cell_type": "markdown",
   "metadata": {},
   "source": [
    "spaCy is a package that performs some basic NLP tasks for us, based on training on a large corpus. We can import spaCy libraries for different languages and of different complexities (often in small, medium, and large sizes, where larger means slower to use but with slightly more precise behaviour). For our use case, we will \"fr_core_news_sm\", which is the small French language  model.\n",
    "\n",
    "For basic questions about spaCy, refer to the documentation [here](https://spacy.io/usage/spacy-101)."
   ]
  },
  {
   "cell_type": "code",
   "execution_count": null,
   "metadata": {},
   "outputs": [],
   "source": [
    "!python -m spacy download fr_core_news_sm"
   ]
  },
  {
   "cell_type": "code",
   "execution_count": null,
   "metadata": {},
   "outputs": [],
   "source": [
    "import spacy\n",
    "from spacy.lang.fr.examples import sentences \n",
    "# nlp = spacy.load(\"en_core_web_sm\") \n",
    "nlp = spacy.load(\"fr_core_news_sm\")  #this could take a minute to download the first time\n"
   ]
  },
  {
   "cell_type": "markdown",
   "metadata": {},
   "source": [
    "The ````nlp```` object can be used to analyze documents. For example:\n",
    "\n",
    "````doc_analyzed = nlp(\"Hello world\")\n",
    "doc_analyzed\n",
    ">>> Hello world\n",
    "type(doc_analyzed)\n",
    ">>> spacy.tokens.doc.Doc\n",
    "````"
   ]
  },
  {
   "cell_type": "code",
   "execution_count": null,
   "metadata": {},
   "outputs": [],
   "source": [
    "doc = nlp(one_text)\n",
    "type(doc)"
   ]
  },
  {
   "cell_type": "markdown",
   "metadata": {},
   "source": [
    "\n",
    "**Question**: Use spaCy to list each token in the ````text```` of the document with id 1500.\n",
    "\n",
    "*Hint: spacy.tokens.doc.Doc is an iterable*"
   ]
  },
  {
   "cell_type": "code",
   "execution_count": null,
   "metadata": {},
   "outputs": [],
   "source": [
    "#todo \n"
   ]
  },
  {
   "cell_type": "markdown",
   "metadata": {},
   "source": [
    "**Question**: List the POS of every token from the previous exercise. Do you agree with spaCy?\n",
    "\n",
    "*Hint: use token.pos_*"
   ]
  },
  {
   "cell_type": "code",
   "execution_count": null,
   "metadata": {},
   "outputs": [],
   "source": [
    "#todo"
   ]
  },
  {
   "cell_type": "markdown",
   "metadata": {},
   "source": [
    "The lemma of a term is the simplest and most distilled version of the term, without prefixes, suffixes, etc. Converting terms to lemmas can be useful in order to reduce the vocabulary size of a corpus and group terms into equivalence classes. For example, \"run\", \"runs\", \"running\", and \"ran\" all share roughly the same semantic meaning, and in some contexts (though not all!) should be treated the same way.\n",
    "\n",
    "**Question**: extract the lemmas from the previous exercise. Which terms stay the same, and which differ? In what ways do they differ?\n",
    "\n",
    "*Hint: use token.lemma_*"
   ]
  },
  {
   "cell_type": "code",
   "execution_count": null,
   "metadata": {},
   "outputs": [],
   "source": [
    "#todo"
   ]
  },
  {
   "cell_type": "markdown",
   "metadata": {},
   "source": [
    "**Question**: How many unique terms are there among all the texts? How many unique *lemmas* are there among all the texts?"
   ]
  },
  {
   "cell_type": "code",
   "execution_count": null,
   "metadata": {},
   "outputs": [],
   "source": [
    "#todo"
   ]
  },
  {
   "cell_type": "markdown",
   "metadata": {},
   "source": [
    "**Question**: Plot the distribution of POS over the all the texts."
   ]
  },
  {
   "cell_type": "code",
   "execution_count": null,
   "metadata": {},
   "outputs": [],
   "source": [
    "#todo"
   ]
  },
  {
   "cell_type": "markdown",
   "metadata": {},
   "source": [
    "**Question**: Plot the distribution of the 100 most common words over the all the texts, provided that they are not space or punctuation. Use a log scale for the y axes and describe the graph: the y axis should be frequency, and the x axis should be words sorted by frequency.\n",
    "\n",
    "*Hint: see [Zipf's law](https://en.wikipedia.org/wiki/Zipf%27s_law)*"
   ]
  },
  {
   "cell_type": "code",
   "execution_count": null,
   "metadata": {},
   "outputs": [],
   "source": [
    "#todo"
   ]
  },
  {
   "cell_type": "markdown",
   "metadata": {},
   "source": [
    "## Stop words\n",
    "\n",
    "Stop words are words that, under some frameworks, contribute marginal semantic value, but are important for syntax. For example, \"the\", \"and\", \"such\", etc.\n",
    "\n",
    "**Question**: In what kind of analysis can we strike stop words without worrying about losing information? In what kind of analysis might we want to keep them around?\n",
    "\n",
    "\n",
    "**Question**: Write a function:\n",
    "\n",
    "````def clean(sentence)````\n",
    "\n",
    "that strikes all stop words, replaces each remaining token with its lemma. Create a cleaned version of each abstract, and save this cleaned version as a new column of the dataframe called \"text_clean\"."
   ]
  },
  {
   "cell_type": "code",
   "execution_count": null,
   "metadata": {},
   "outputs": [],
   "source": [
    "def clean(sentence):\n",
    "    #todo\n",
    "    pass\n",
    "\n",
    "df_radios[\"text_clean\"] = df_radios.text.apply(clean)"
   ]
  },
  {
   "cell_type": "markdown",
   "metadata": {},
   "source": [
    "## Dependencies\n",
    "spaCy calculates dependencies between different tokens:"
   ]
  },
  {
   "cell_type": "code",
   "execution_count": null,
   "metadata": {},
   "outputs": [],
   "source": [
    "# exp_doc = nlp(\"Hello! I hope you are well.\")\n",
    "exp_doc = nlp(one_text)\n",
    "for word in exp_doc:\n",
    "   print(word.text, word.tag_, word.head)"
   ]
  },
  {
   "cell_type": "markdown",
   "metadata": {},
   "source": [
    "We can visualize this using dispacy, a visualization library:"
   ]
  },
  {
   "cell_type": "code",
   "execution_count": null,
   "metadata": {},
   "outputs": [],
   "source": [
    "from spacy import displacy\n",
    "displacy.render(exp_doc, style='dep', jupyter=True, options={'distance': 130})\n"
   ]
  },
  {
   "cell_type": "markdown",
   "metadata": {},
   "source": [
    "**Question**: Visualize a random title from the dataframe - describe the visualization."
   ]
  },
  {
   "cell_type": "markdown",
   "metadata": {},
   "source": [
    "## NER\n",
    "\n",
    "spaCy can determine named entities."
   ]
  },
  {
   "cell_type": "code",
   "execution_count": null,
   "metadata": {},
   "outputs": [],
   "source": [
    "\n",
    "for ent in nlp(\"Joe Biden is the president of the USA\").ents:\n",
    "    print(\"ENT: \", ent.text, ent.label_, spacy.explain(ent.label_))\n"
   ]
  },
  {
   "cell_type": "markdown",
   "metadata": {},
   "source": [
    "**Question**: calculate the ten most common named entities and the five most common labels among the texts."
   ]
  },
  {
   "cell_type": "code",
   "execution_count": null,
   "metadata": {},
   "outputs": [],
   "source": [
    "#todo"
   ]
  },
  {
   "cell_type": "markdown",
   "metadata": {},
   "source": [
    "## TF-IDF\n",
    "\n",
    "One of the most important statistics we can calculate for a document is the TF-IDF score. This stands for \"term frequency-inverse document frequency\" score, and it is a measure of the importance of each word to a given document, in the context of the corpus of documents. For each word in each document, we calculate the following ratio:\n",
    "\n",
    "$\\frac{TF_{word; doc}}{IDF_{word; doc}}$\n",
    "\n",
    "$TF_{word; doc} = \\frac{\\text{Total counts of word in doc}}{\\text{Number of terms in doc}}$\n",
    "\n",
    "$IDF_{word; doc} = \\log{\\left(\\frac{|\\text{corpus}|}{\\text{Number of docs containing word}}\\right)}$\n",
    "\n",
    "To have a high TF-IDF score in a document, a word must occur frequently in a document, while appearing rarely in others.\n",
    "\n",
    "**Question**: Give the limits of TF and IDF for a word/document pair, and give an example of a word-document pair where this might occur (for example, word=\"Hello\", doc=Wikipedia page for greetings, corpus=all of Wikipedia).\n"
   ]
  },
  {
   "cell_type": "markdown",
   "metadata": {},
   "source": [
    "**Question**: Code the functions TF and IDF:\n"
   ]
  },
  {
   "cell_type": "code",
   "execution_count": null,
   "metadata": {},
   "outputs": [],
   "source": [
    "def tf(word, document):\n",
    "    #todo\n",
    "    pass\n",
    "\n",
    "\n",
    "\n",
    "def idf(word, all_documents):\n",
    "    #todo\n",
    "    pass\n",
    "\n",
    "\n",
    "\n",
    "def tf_idf(word, document, all_documents):\n",
    "    return tf(word, document)/idf(word, all_documents)\n",
    "\n",
    "#test your code:\n",
    "my_text = df_radios.iloc[0].text_clean\n",
    "tf_idf(\"radio\", my_text, df_radios.text_clean)"
   ]
  },
  {
   "cell_type": "markdown",
   "metadata": {},
   "source": [
    "**Question**: What is the word with the highest and lowest TF-IDF score?"
   ]
  },
  {
   "cell_type": "markdown",
   "metadata": {},
   "source": [
    "**Question**: If we took each document and duplicated it in place, i.e.:\n",
    "\n",
    "a document \"hello world\" would become \"hello world hello world\", how would the tf-idf score of any document-word pair change?\n",
    "\n",
    "What about if instead of duplicating in place, we doubled the size of the corpus, i.e.\n",
    "\n",
    "if document \"hello world\" is in the corpus once, we add a second copy so now it is in the corpus twice. How would the tf-idf score of any document-word pair change now?"
   ]
  },
  {
   "cell_type": "markdown",
   "metadata": {},
   "source": [
    "**Question**: What could be a potential use-case for the TF-IDF score in practice?"
   ]
  },
  {
   "cell_type": "markdown",
   "metadata": {},
   "source": [
    "### Final Comments \n",
    "\n",
    "Add your conclusions about this lab. You can include your level of satisfation with your work and your opinion on the length and difficulty of the exercises."
   ]
  },
  {
   "cell_type": "markdown",
   "metadata": {},
   "source": []
  }
 ],
 "metadata": {
  "kernelspec": {
   "display_name": "Python 3 (ipykernel)",
   "language": "python",
   "name": "python3"
  },
  "language_info": {
   "codemirror_mode": {
    "name": "ipython",
    "version": 3
   },
   "file_extension": ".py",
   "mimetype": "text/x-python",
   "name": "python",
   "nbconvert_exporter": "python",
   "pygments_lexer": "ipython3",
   "version": "3.10.12"
  }
 },
 "nbformat": 4,
 "nbformat_minor": 4
}
