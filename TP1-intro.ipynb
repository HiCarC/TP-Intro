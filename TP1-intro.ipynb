{
 "cells": [
  {
   "cell_type": "markdown",
   "metadata": {},
   "source": [
    "# Basics of NLP: DataFrame rudiments and spaCy"
   ]
  },
  {
   "cell_type": "raw",
   "metadata": {},
   "source": [
    "TP Basics of NLP: CERQUEDA Carles, LI Maxime"
   ]
  },
  {
   "cell_type": "markdown",
   "metadata": {},
   "source": [
    "## Libraries \n",
    "\n",
    "We will consider a corpus of radio recordings in french (source: France inter, RFI, ...) :  RADIOS.txt\n"
   ]
  },
  {
   "cell_type": "markdown",
   "metadata": {},
   "source": [
    "The first step in writing python code is determining which libraries we want to use. To stay organized, we generally import all libraries at the top (of a notebook or a standalone python file)."
   ]
  },
  {
   "cell_type": "code",
   "execution_count": 1,
   "metadata": {},
   "outputs": [],
   "source": [
    "import pandas as pd\n",
    "import re\n",
    "import matplotlib.pyplot as plt\n",
    "import xml.etree.ElementTree as ET\n",
    "from numpy import log\n",
    "from collections import Counter\n",
    "import nltk\n",
    "from nltk.util import ngrams\n",
    "import math\n"
   ]
  },
  {
   "cell_type": "markdown",
   "metadata": {},
   "source": [
    "## Pandas Dataframe basics\n",
    "\n",
    "In this TP we use Pandas [DataFrames](https://pandas.pydata.org/docs/reference/api/pandas.DataFrame.html) to manage our dataset. Pandas is a standard tool in data science."
   ]
  },
  {
   "cell_type": "code",
   "execution_count": 2,
   "metadata": {},
   "outputs": [],
   "source": [
    "df_radios = pd.read_csv('RADIOS.txt', names=['text'])"
   ]
  },
  {
   "cell_type": "code",
   "execution_count": 3,
   "metadata": {},
   "outputs": [
    {
     "name": "stdout",
     "output_type": "stream",
     "text": [
      "35356\n"
     ]
    },
    {
     "data": {
      "text/html": [
       "<div>\n",
       "<style scoped>\n",
       "    .dataframe tbody tr th:only-of-type {\n",
       "        vertical-align: middle;\n",
       "    }\n",
       "\n",
       "    .dataframe tbody tr th {\n",
       "        vertical-align: top;\n",
       "    }\n",
       "\n",
       "    .dataframe thead th {\n",
       "        text-align: right;\n",
       "    }\n",
       "</style>\n",
       "<table border=\"1\" class=\"dataframe\">\n",
       "  <thead>\n",
       "    <tr style=\"text-align: right;\">\n",
       "      <th></th>\n",
       "      <th>text</th>\n",
       "    </tr>\n",
       "  </thead>\n",
       "  <tbody>\n",
       "    <tr>\n",
       "      <th>0</th>\n",
       "      <td>patricia martin que voici que voilà</td>\n",
       "    </tr>\n",
       "    <tr>\n",
       "      <th>1</th>\n",
       "      <td>oh bonjour nicolas stoufflet</td>\n",
       "    </tr>\n",
       "    <tr>\n",
       "      <th>2</th>\n",
       "      <td>france-inter sept heures</td>\n",
       "    </tr>\n",
       "    <tr>\n",
       "      <th>3</th>\n",
       "      <td>le journal simon tivolle</td>\n",
       "    </tr>\n",
       "    <tr>\n",
       "      <th>4</th>\n",
       "      <td>bonjour</td>\n",
       "    </tr>\n",
       "  </tbody>\n",
       "</table>\n",
       "</div>"
      ],
      "text/plain": [
       "                                  text\n",
       "0  patricia martin que voici que voilà\n",
       "1         oh bonjour nicolas stoufflet\n",
       "2             france-inter sept heures\n",
       "3             le journal simon tivolle\n",
       "4                              bonjour"
      ]
     },
     "execution_count": 3,
     "metadata": {},
     "output_type": "execute_result"
    }
   ],
   "source": [
    "print(len(df_radios))\n",
    "df_radios.head()"
   ]
  },
  {
   "cell_type": "markdown",
   "metadata": {},
   "source": [
    "We can list the columns of a dataset ````df```` by calling ````df.columns````.\n",
    "\n",
    "**Question**: What are the columns of the dataset ````df_radios````?\n",
    "\n",
    "**-** The dataset contains a single column, 'text', which holds text data from radio recordings.\n",
    "python\n"
   ]
  },
  {
   "cell_type": "code",
   "execution_count": 4,
   "metadata": {},
   "outputs": [
    {
     "data": {
      "text/plain": [
       "Index(['text'], dtype='object')"
      ]
     },
     "execution_count": 4,
     "metadata": {},
     "output_type": "execute_result"
    }
   ],
   "source": [
    "df_radios.columns"
   ]
  },
  {
   "cell_type": "markdown",
   "metadata": {},
   "source": [
    "We can access to a specific using ````df.loc[i]```` or ````df.iloc[i]```` \n",
    "\n",
    "\n",
    "**Question**: What is the difference between .loc and .iloc?\n",
    "\n",
    "**-** \".loc\" is label-based, meaning it uses labels/index to access data, while \".iloc\" is integer position-based, so it uses numerical indexes to access data."
   ]
  },
  {
   "cell_type": "code",
   "execution_count": 5,
   "metadata": {},
   "outputs": [
    {
     "data": {
      "text/plain": [
       "'bonjour'"
      ]
     },
     "execution_count": 5,
     "metadata": {},
     "output_type": "execute_result"
    }
   ],
   "source": [
    "one_text = df_radios.iloc[4].text\n",
    "one_text"
   ]
  },
  {
   "cell_type": "markdown",
   "metadata": {},
   "source": [
    "We can count the number of words in a string using the ````len```` function and ````split```` method of strings. For example:\n",
    "\n",
    "\n",
    "```\n",
    "string = \"bla bla bla\"\n",
    "len(string.split(\" \"))\n",
    ">>> 3\n",
    "```\n",
    "\n",
    "**Question**: Fill in the following function and run it for a our ````one_text```` example. \n",
    "\n",
    "\n",
    "\n",
    "\n"
   ]
  },
  {
   "cell_type": "code",
   "execution_count": 6,
   "metadata": {},
   "outputs": [
    {
     "data": {
      "text/plain": [
       "1"
      ]
     },
     "execution_count": 6,
     "metadata": {},
     "output_type": "execute_result"
    }
   ],
   "source": [
    "def num_words(sentence):\n",
    "    '''\n",
    "    Calculate the number of words in the sentence.\n",
    "    '''\n",
    "    return len(sentence.split(\" \"))\n",
    "\n",
    "num_words(one_text)"
   ]
  },
  {
   "cell_type": "markdown",
   "metadata": {},
   "source": [
    "\n",
    "Furthermore, we can calculate values for each row, based on a specific column, using the ````apply```` method:\n",
    "\n",
    "```\n",
    "lengths = df.column_name.apply(lambda text: num_words(text))\n",
    "```\n",
    "\n",
    "This will give us a [pandas Series](https://pandas.pydata.org/docs/reference/api/pandas.Series.html) of the lengths of each text.\n",
    "\n",
    "**Question**: Add the length of each text as a new column in the dataframe (see [pandas docs](https://pandas.pydata.org/docs/user_guide/dsintro.html#basics-dataframe-sel-add-del) for details). \n",
    "\n",
    "**Question**: What is the distribution of the length of the texts in words? Visualize this using a python plot (see [plt.hist](https://matplotlib.org/stable/api/_as_gen/matplotlib.pyplot.hist.html)).\n",
    "\n",
    "**-** This histogram shows the distribution of text lengths (in words) within the dataset. Most texts are relatively short, with a few longer outliers.\n",
    "\n"
   ]
  },
  {
   "cell_type": "code",
   "execution_count": 7,
   "metadata": {},
   "outputs": [
    {
     "data": {
      "text/plain": [
       "(array([1.2295e+04, 9.6080e+03, 5.9810e+03, 3.1830e+03, 1.4720e+03,\n",
       "        8.0400e+02, 4.9600e+02, 3.2700e+02, 2.0900e+02, 1.4300e+02,\n",
       "        1.3100e+02, 1.0100e+02, 8.5000e+01, 8.4000e+01, 6.3000e+01,\n",
       "        5.0000e+01, 4.7000e+01, 2.7000e+01, 3.1000e+01, 3.6000e+01,\n",
       "        3.9000e+01, 1.4000e+01, 2.6000e+01, 1.2000e+01, 1.6000e+01,\n",
       "        1.0000e+01, 1.3000e+01, 9.0000e+00, 5.0000e+00, 2.0000e+00,\n",
       "        5.0000e+00, 3.0000e+00, 6.0000e+00, 2.0000e+00, 2.0000e+00,\n",
       "        2.0000e+00, 1.0000e+00, 0.0000e+00, 1.0000e+00, 1.0000e+00,\n",
       "        2.0000e+00, 0.0000e+00, 2.0000e+00, 2.0000e+00, 0.0000e+00,\n",
       "        2.0000e+00, 1.0000e+00, 1.0000e+00, 2.0000e+00, 0.0000e+00,\n",
       "        1.0000e+00, 0.0000e+00, 0.0000e+00, 0.0000e+00, 0.0000e+00,\n",
       "        0.0000e+00, 0.0000e+00, 0.0000e+00, 0.0000e+00, 0.0000e+00,\n",
       "        0.0000e+00, 0.0000e+00, 0.0000e+00, 0.0000e+00, 0.0000e+00,\n",
       "        0.0000e+00, 0.0000e+00, 0.0000e+00, 0.0000e+00, 0.0000e+00,\n",
       "        0.0000e+00, 0.0000e+00, 0.0000e+00, 0.0000e+00, 0.0000e+00,\n",
       "        0.0000e+00, 0.0000e+00, 0.0000e+00, 0.0000e+00, 0.0000e+00,\n",
       "        0.0000e+00, 0.0000e+00, 0.0000e+00, 0.0000e+00, 0.0000e+00,\n",
       "        0.0000e+00, 0.0000e+00, 0.0000e+00, 0.0000e+00, 0.0000e+00,\n",
       "        0.0000e+00, 0.0000e+00, 0.0000e+00, 0.0000e+00, 0.0000e+00,\n",
       "        0.0000e+00, 0.0000e+00, 0.0000e+00, 0.0000e+00, 1.0000e+00]),\n",
       " array([1.0000e+00, 1.2300e+01, 2.3600e+01, 3.4900e+01, 4.6200e+01,\n",
       "        5.7500e+01, 6.8800e+01, 8.0100e+01, 9.1400e+01, 1.0270e+02,\n",
       "        1.1400e+02, 1.2530e+02, 1.3660e+02, 1.4790e+02, 1.5920e+02,\n",
       "        1.7050e+02, 1.8180e+02, 1.9310e+02, 2.0440e+02, 2.1570e+02,\n",
       "        2.2700e+02, 2.3830e+02, 2.4960e+02, 2.6090e+02, 2.7220e+02,\n",
       "        2.8350e+02, 2.9480e+02, 3.0610e+02, 3.1740e+02, 3.2870e+02,\n",
       "        3.4000e+02, 3.5130e+02, 3.6260e+02, 3.7390e+02, 3.8520e+02,\n",
       "        3.9650e+02, 4.0780e+02, 4.1910e+02, 4.3040e+02, 4.4170e+02,\n",
       "        4.5300e+02, 4.6430e+02, 4.7560e+02, 4.8690e+02, 4.9820e+02,\n",
       "        5.0950e+02, 5.2080e+02, 5.3210e+02, 5.4340e+02, 5.5470e+02,\n",
       "        5.6600e+02, 5.7730e+02, 5.8860e+02, 5.9990e+02, 6.1120e+02,\n",
       "        6.2250e+02, 6.3380e+02, 6.4510e+02, 6.5640e+02, 6.6770e+02,\n",
       "        6.7900e+02, 6.9030e+02, 7.0160e+02, 7.1290e+02, 7.2420e+02,\n",
       "        7.3550e+02, 7.4680e+02, 7.5810e+02, 7.6940e+02, 7.8070e+02,\n",
       "        7.9200e+02, 8.0330e+02, 8.1460e+02, 8.2590e+02, 8.3720e+02,\n",
       "        8.4850e+02, 8.5980e+02, 8.7110e+02, 8.8240e+02, 8.9370e+02,\n",
       "        9.0500e+02, 9.1630e+02, 9.2760e+02, 9.3890e+02, 9.5020e+02,\n",
       "        9.6150e+02, 9.7280e+02, 9.8410e+02, 9.9540e+02, 1.0067e+03,\n",
       "        1.0180e+03, 1.0293e+03, 1.0406e+03, 1.0519e+03, 1.0632e+03,\n",
       "        1.0745e+03, 1.0858e+03, 1.0971e+03, 1.1084e+03, 1.1197e+03,\n",
       "        1.1310e+03]),\n",
       " <BarContainer object of 100 artists>)"
      ]
     },
     "execution_count": 7,
     "metadata": {},
     "output_type": "execute_result"
    },
    {
     "data": {
      "image/png": "[encoded data removed]",
      "text/plain": [
       "<Figure size 640x480 with 1 Axes>"
      ]
     },
     "metadata": {},
     "output_type": "display_data"
    }
   ],
   "source": [
    "\n",
    "lengths = df_radios.text.apply(lambda text: num_words(text)) #todo \n",
    "\n",
    "plt.hist(lengths,bins=100) "
   ]
  },
  {
   "cell_type": "markdown",
   "metadata": {},
   "source": [
    "We can filter a dataframe using criteria based on values in certain columns. The basic syntax for this is:\n",
    "\n",
    "````\n",
    "new_df = df[df[\"column\"].apply(lambda row_value: my_func(row_value) == some_value)]\n",
    "````\n",
    "\n",
    "This gives a new DataFrame composed of all elements of ````df```` such the values of the function ````myfunc````, calculated for the value of column \"column\" for each row is equal to some_value. For example, if we wanted all rows that begin with \"a\", we could run:\n",
    "\n",
    "````\n",
    "df_letter_A = df[df[\"text\"].apply(lambda text: text[0] == \"a\")]\n",
    "````\n",
    "\n",
    "**Question**: Retain only documents with at least 50 words\n",
    "\n",
    "**-** To filter documents with at least 50 words, you apply a condition to the DataFrame that checks the number of words in each document. This is done using the apply method with a lambda function that counts the words using the previously defined num_words function."
   ]
  },
  {
   "cell_type": "code",
   "execution_count": 8,
   "metadata": {},
   "outputs": [
    {
     "data": {
      "text/html": [
       "<div>\n",
       "<style scoped>\n",
       "    .dataframe tbody tr th:only-of-type {\n",
       "        vertical-align: middle;\n",
       "    }\n",
       "\n",
       "    .dataframe tbody tr th {\n",
       "        vertical-align: top;\n",
       "    }\n",
       "\n",
       "    .dataframe thead th {\n",
       "        text-align: right;\n",
       "    }\n",
       "</style>\n",
       "<table border=\"1\" class=\"dataframe\">\n",
       "  <thead>\n",
       "    <tr style=\"text-align: right;\">\n",
       "      <th></th>\n",
       "      <th>text</th>\n",
       "    </tr>\n",
       "  </thead>\n",
       "  <tbody>\n",
       "    <tr>\n",
       "      <th>34</th>\n",
       "      <td>il quitte l' école à douze ans pour aider son ...</td>\n",
       "    </tr>\n",
       "    <tr>\n",
       "      <th>42</th>\n",
       "      <td>selon jack lang césar était était l' une des f...</td>\n",
       "    </tr>\n",
       "    <tr>\n",
       "      <th>45</th>\n",
       "      <td>la chaîne de l' espoir c'est une association c...</td>\n",
       "    </tr>\n",
       "    <tr>\n",
       "      <th>46</th>\n",
       "      <td>l' association a été créée par un professeur e...</td>\n",
       "    </tr>\n",
       "    <tr>\n",
       "      <th>100</th>\n",
       "      <td>nicole notat est arrivée en trois ans à réduir...</td>\n",
       "    </tr>\n",
       "    <tr>\n",
       "      <th>...</th>\n",
       "      <td>...</td>\n",
       "    </tr>\n",
       "    <tr>\n",
       "      <th>35344</th>\n",
       "      <td>rappelons que le dix-sept juin dernier les reb...</td>\n",
       "    </tr>\n",
       "    <tr>\n",
       "      <th>35346</th>\n",
       "      <td>la tension est montée ces derniers jours entre...</td>\n",
       "    </tr>\n",
       "    <tr>\n",
       "      <th>35347</th>\n",
       "      <td>l' émir du koweït jaber al ahmed assabah a sép...</td>\n",
       "    </tr>\n",
       "    <tr>\n",
       "      <th>35349</th>\n",
       "      <td>la position de claudette est restée quasiment ...</td>\n",
       "    </tr>\n",
       "    <tr>\n",
       "      <th>35351</th>\n",
       "      <td>sport athlétisme pour terminer le triple champ...</td>\n",
       "    </tr>\n",
       "  </tbody>\n",
       "</table>\n",
       "<p>3773 rows × 1 columns</p>\n",
       "</div>"
      ],
      "text/plain": [
       "                                                    text\n",
       "34     il quitte l' école à douze ans pour aider son ...\n",
       "42     selon jack lang césar était était l' une des f...\n",
       "45     la chaîne de l' espoir c'est une association c...\n",
       "46     l' association a été créée par un professeur e...\n",
       "100    nicole notat est arrivée en trois ans à réduir...\n",
       "...                                                  ...\n",
       "35344  rappelons que le dix-sept juin dernier les reb...\n",
       "35346  la tension est montée ces derniers jours entre...\n",
       "35347  l' émir du koweït jaber al ahmed assabah a sép...\n",
       "35349  la position de claudette est restée quasiment ...\n",
       "35351  sport athlétisme pour terminer le triple champ...\n",
       "\n",
       "[3773 rows x 1 columns]"
      ]
     },
     "execution_count": 8,
     "metadata": {},
     "output_type": "execute_result"
    }
   ],
   "source": [
    "df_radios[df_radios[\"text\"].apply(lambda row_value: num_words(row_value) >=50)]"
   ]
  },
  {
   "cell_type": "markdown",
   "metadata": {},
   "source": [
    "### Finding useful information in the text:\n",
    "\n",
    "We will implement regular expresions (regex) to filter the text according to a specific condiction. \n",
    "\n",
    "To implement the regex evaluation in Pandas we use the [`Series.str.contains`](https://pandas.pydata.org/pandas-docs/stable/reference/api/pandas.Series.str.contains.html) filtering function, as :\n",
    "\n",
    "```` df.column_name.str.contains('[a-z]', regex=True)````\n",
    "\n",
    "Also useful: `match`, `Series.str.startswith`, `Series.str.endswith`\n",
    "\n",
    "\n",
    "**Question**  : How many texts are there with at least one word of 9 letters in RADIOS.txt?\n",
    "\n",
    "**-** To find texts with at least one 9-letter word, we used the str.contains method with a regex pattern that matches words of 9 or more characters, there are: 26559 words.\n",
    "\n",
    "**Question**  : Are there any texts with words without vowels in RADIOS.txt?\n",
    "\n",
    "**-** For texts with words that have no vowels, the regex pattern changes to match words composed only of consonants, we found 58.\n",
    "\n",
    "\n",
    "You can use the following regexs : "
   ]
  },
  {
   "cell_type": "markdown",
   "metadata": {},
   "source": [
    "| regex | Description |\n",
    "|--------|--------------------|\n",
    "|`'[A-Z]'`|filtre lignes contenant une majuscule|\n",
    "|`'^[A-Z]'`|filtre lignes commençant par une majuscule|\n",
    "|`'[A-Z]$'`|filtre lignes finissant par une majuscule|\n",
    "|`'^[A-Z]*$'`|filtre lignes entièrement majuscules|\n",
    "|`'[aeiouAEIOU]'`|filtre lignes contenant une voyelle|\n",
    "|`'^[aeiouAEIOU]'`|filtre lignes commençant par une voyelle|\n",
    "|`'[aeiouAEIOU]$'`|filtre lignes finissant par une voyelle|\n",
    "|`'^[^aeiouAEIOU]'`|filtre lignes commençant par une non-voyelle|\n",
    "|`'[^aeiouAEIOU]$'`|filtre lignes finissant par une non-voyelle|\n",
    "|`'[aeiouAEIOU].*[aeiouAEIOU]'`|filtre lignes avec au moins deux voyelles|\n",
    "|`'^[^aeiouAEIOU]*[aeiouAEIOU][^aeiouAEIOU]*$'`| filtre lignes avec exactement une voyelle|\n",
    "\n",
    "Avec expressions régulières:\n",
    "\n",
    "| Expression | Match |\n",
    "|--------|--------------------|\n",
    "|`a`|la lettre \"a\"|\n",
    "|`[a-z]`|une lettre minuscule|\n",
    "|`[A-Z]`|une lettre majuscule|\n",
    "|`[0-9]`|un chiffre|\n",
    "|`[0123456789]`|un chiffre|\n",
    "|`[aeiouAEIOU]`|une voyelle|\n",
    "|`[^aeiouAEIOU]`|tout sauf une voyelle|\n",
    "|`.`|un caractère|\n",
    "|`^`|début de ligne|\n",
    "|`$`|fin de ligne|\n",
    "|`x*`| \"x\" répété 0 fois ou plus|\n",
    "|``x+``| \"x\" répété 1 fois ou plus|\n",
    "|`x\\|y`| \"x\" ou \"y\"|"
   ]
  },
  {
   "cell_type": "code",
   "execution_count": 9,
   "metadata": {},
   "outputs": [
    {
     "data": {
      "text/html": [
       "<div>\n",
       "<style scoped>\n",
       "    .dataframe tbody tr th:only-of-type {\n",
       "        vertical-align: middle;\n",
       "    }\n",
       "\n",
       "    .dataframe tbody tr th {\n",
       "        vertical-align: top;\n",
       "    }\n",
       "\n",
       "    .dataframe thead th {\n",
       "        text-align: right;\n",
       "    }\n",
       "</style>\n",
       "<table border=\"1\" class=\"dataframe\">\n",
       "  <thead>\n",
       "    <tr style=\"text-align: right;\">\n",
       "      <th></th>\n",
       "      <th>text</th>\n",
       "      <th>a-z</th>\n",
       "      <th>9 letters</th>\n",
       "      <th>no vowels</th>\n",
       "    </tr>\n",
       "  </thead>\n",
       "  <tbody>\n",
       "    <tr>\n",
       "      <th>1</th>\n",
       "      <td>oh bonjour nicolas stoufflet</td>\n",
       "      <td>True</td>\n",
       "      <td>True</td>\n",
       "      <td>False</td>\n",
       "    </tr>\n",
       "    <tr>\n",
       "      <th>6</th>\n",
       "      <td>deux incendies cette nuit en région_parisienne...</td>\n",
       "      <td>True</td>\n",
       "      <td>True</td>\n",
       "      <td>False</td>\n",
       "    </tr>\n",
       "    <tr>\n",
       "      <th>7</th>\n",
       "      <td>et puis dans le neuvième arrondissement de par...</td>\n",
       "      <td>True</td>\n",
       "      <td>True</td>\n",
       "      <td>False</td>\n",
       "    </tr>\n",
       "    <tr>\n",
       "      <th>8</th>\n",
       "      <td>le sculpteur césar est décédé hier à l' âge de...</td>\n",
       "      <td>True</td>\n",
       "      <td>True</td>\n",
       "      <td>False</td>\n",
       "    </tr>\n",
       "    <tr>\n",
       "      <th>10</th>\n",
       "      <td>la chaîne de l' espoir association de médecins...</td>\n",
       "      <td>True</td>\n",
       "      <td>True</td>\n",
       "      <td>False</td>\n",
       "    </tr>\n",
       "    <tr>\n",
       "      <th>...</th>\n",
       "      <td>...</td>\n",
       "      <td>...</td>\n",
       "      <td>...</td>\n",
       "      <td>...</td>\n",
       "    </tr>\n",
       "    <tr>\n",
       "      <th>35351</th>\n",
       "      <td>sport athlétisme pour terminer le triple champ...</td>\n",
       "      <td>True</td>\n",
       "      <td>True</td>\n",
       "      <td>False</td>\n",
       "    </tr>\n",
       "    <tr>\n",
       "      <th>35352</th>\n",
       "      <td>l' éthiopienne defar meseret est entrée quatri...</td>\n",
       "      <td>True</td>\n",
       "      <td>True</td>\n",
       "      <td>False</td>\n",
       "    </tr>\n",
       "    <tr>\n",
       "      <th>35353</th>\n",
       "      <td>la fin de cette édition le rappel de ses princ...</td>\n",
       "      <td>True</td>\n",
       "      <td>True</td>\n",
       "      <td>False</td>\n",
       "    </tr>\n",
       "    <tr>\n",
       "      <th>35354</th>\n",
       "      <td>au libéria l' armée de charles taylor en alert...</td>\n",
       "      <td>True</td>\n",
       "      <td>True</td>\n",
       "      <td>False</td>\n",
       "    </tr>\n",
       "    <tr>\n",
       "      <th>35355</th>\n",
       "      <td>merci de votre aimable attention je vous rappe...</td>\n",
       "      <td>True</td>\n",
       "      <td>True</td>\n",
       "      <td>False</td>\n",
       "    </tr>\n",
       "  </tbody>\n",
       "</table>\n",
       "<p>26559 rows × 4 columns</p>\n",
       "</div>"
      ],
      "text/plain": [
       "                                                    text   a-z  9 letters  \\\n",
       "1                           oh bonjour nicolas stoufflet  True       True   \n",
       "6      deux incendies cette nuit en région_parisienne...  True       True   \n",
       "7      et puis dans le neuvième arrondissement de par...  True       True   \n",
       "8      le sculpteur césar est décédé hier à l' âge de...  True       True   \n",
       "10     la chaîne de l' espoir association de médecins...  True       True   \n",
       "...                                                  ...   ...        ...   \n",
       "35351  sport athlétisme pour terminer le triple champ...  True       True   \n",
       "35352  l' éthiopienne defar meseret est entrée quatri...  True       True   \n",
       "35353  la fin de cette édition le rappel de ses princ...  True       True   \n",
       "35354  au libéria l' armée de charles taylor en alert...  True       True   \n",
       "35355  merci de votre aimable attention je vous rappe...  True       True   \n",
       "\n",
       "       no vowels  \n",
       "1          False  \n",
       "6          False  \n",
       "7          False  \n",
       "8          False  \n",
       "10         False  \n",
       "...          ...  \n",
       "35351      False  \n",
       "35352      False  \n",
       "35353      False  \n",
       "35354      False  \n",
       "35355      False  \n",
       "\n",
       "[26559 rows x 4 columns]"
      ]
     },
     "execution_count": 9,
     "metadata": {},
     "output_type": "execute_result"
    }
   ],
   "source": [
    "df_radios['a-z'] = df_radios.text.str.contains('[a-z]', regex=True)\n",
    "df_radios['9 letters'] = df_radios.text.str.contains(\"\\w{9,}\", regex=True)#TODO\n",
    "df_radios['no vowels'] = df_radios.text.str.contains(\"^[^aeiouAEIOU]+$\", regex=True)\n",
    "df_radios[df_radios.text.str.contains(\"\\w{9,}\", regex=True)]"
   ]
  },
  {
   "cell_type": "code",
   "execution_count": 10,
   "metadata": {},
   "outputs": [
    {
     "data": {
      "text/plain": [
       "26559"
      ]
     },
     "execution_count": 10,
     "metadata": {},
     "output_type": "execute_result"
    }
   ],
   "source": [
    "df_radios['9 letters'].sum()\n"
   ]
  },
  {
   "cell_type": "code",
   "execution_count": 11,
   "metadata": {},
   "outputs": [
    {
     "data": {
      "text/plain": [
       "58"
      ]
     },
     "execution_count": 11,
     "metadata": {},
     "output_type": "execute_result"
    }
   ],
   "source": [
    "df_radios['no vowels'].sum()"
   ]
  },
  {
   "cell_type": "markdown",
   "metadata": {},
   "source": [
    "## Vocabulary \n",
    "\n",
    "We will create a a dictionary as the vocabulary for our corpus of texts. \n",
    "Create a dictionary where each key is a word and the value will be its frequency. \n",
    "\n",
    "```` texts_vocab = {'key1':value, 'key2':value} ````\n",
    "\n",
    "**Question** Create a Vocabulary of bigrams and trigrams \n",
    "\n",
    "**Question** How many different words exist in our corpus of texts?\n",
    "\n",
    "**-** There are 34035 of different words in the corpus.\n",
    "\n",
    "**Question**: What is the frequency distribution of the words? use ```plt.hist```\n",
    "\n",
    "**-** The frequency distribution of the words are mostly comprised between 0 and 50.\n",
    "\n",
    "**Question** [optional] How many bigrams and trigrams exist? Visualize the frequency distribution. \n",
    "\n",
    "**-** There are 295811 different bigrams in the corpus and 620591 different trigrams.\n"
   ]
  },
  {
   "cell_type": "code",
   "execution_count": 12,
   "metadata": {},
   "outputs": [
    {
     "name": "stdout",
     "output_type": "stream",
     "text": [
      "Number of different words in the corpus: 34035\n"
     ]
    },
    {
     "data": {
      "image/png": "[encoded data removed]",
      "text/plain": [
       "<Figure size 640x480 with 1 Axes>"
      ]
     },
     "metadata": {},
     "output_type": "display_data"
    }
   ],
   "source": [
    "words = df_radios['text'].str.split()\n",
    "words_flat = [word for sublist in words for word in sublist]\n",
    "\n",
    "word_freq = Counter(words_flat)\n",
    "\n",
    "num_unique_words = len(word_freq)\n",
    "\n",
    "print(\"Number of different words in the corpus:\", num_unique_words)\n",
    "\n",
    "plt.hist(word_freq.values(), bins=5000)\n",
    "plt.xlabel('Word Frequency')\n",
    "plt.ylabel('Number of Words')\n",
    "plt.title('Frequency Distribution of Words')\n",
    "plt.xlim(0, 300)\n",
    "plt.show()"
   ]
  },
  {
   "cell_type": "code",
   "execution_count": 13,
   "metadata": {},
   "outputs": [
    {
     "name": "stdout",
     "output_type": "stream",
     "text": [
      "Number of different bigrams in the corpus: 295811\n",
      "Number of different trigrams in the corpus: 620591\n"
     ]
    },
    {
     "data": {
      "image/png": "[encoded data removed]",
      "text/plain": [
       "<Figure size 640x480 with 1 Axes>"
      ]
     },
     "metadata": {},
     "output_type": "display_data"
    },
    {
     "data": {
      "image/png": "[encoded data removed]",
      "text/plain": [
       "<Figure size 640x480 with 1 Axes>"
      ]
     },
     "metadata": {},
     "output_type": "display_data"
    }
   ],
   "source": [
    "def create_ngrams(words, n):\n",
    "    return list(ngrams(words, n))\n",
    "words = df_radios['text'].str.split()\n",
    "words_flat = [word for sublist in words for word in sublist]\n",
    "\n",
    "bigrams = create_ngrams(words_flat, 2)\n",
    "trigrams = create_ngrams(words_flat, 3)\n",
    "\n",
    "bigram_freq = Counter(bigrams)\n",
    "trigram_freq = Counter(trigrams)\n",
    "\n",
    "num_unique_bigrams = len(bigram_freq)\n",
    "num_unique_trigrams = len(trigram_freq)\n",
    "\n",
    "print(\"Number of different bigrams in the corpus:\", num_unique_bigrams)\n",
    "print(\"Number of different trigrams in the corpus:\", num_unique_trigrams)\n",
    "\n",
    "plt.hist(bigram_freq.values(), bins=5000)\n",
    "plt.xlabel('Bigram Frequency')\n",
    "plt.ylabel('Number of Bigrams')\n",
    "plt.title('Frequency Distribution of Bigrams')\n",
    "plt.xlim(0, 600)\n",
    "plt.ylim(0, 2000)\n",
    "plt.show()\n",
    "\n",
    "plt.hist(trigram_freq.values(), bins=5000)\n",
    "plt.xlabel('Trigram Frequency')\n",
    "plt.ylabel('Number of Trigrams')\n",
    "plt.title('Frequency Distribution of Trigrams')\n",
    "plt.xlim(0, 500)\n",
    "plt.ylim(0, 200)\n",
    "plt.show()"
   ]
  },
  {
   "cell_type": "markdown",
   "metadata": {},
   "source": [
    "## Introduction to spaCy"
   ]
  },
  {
   "cell_type": "markdown",
   "metadata": {},
   "source": [
    "spaCy is a package that performs some basic NLP tasks for us, based on training on a large corpus. We can import spaCy libraries for different languages and of different complexities (often in small, medium, and large sizes, where larger means slower to use but with slightly more precise behaviour). For our use case, we will \"fr_core_news_sm\", which is the small French language  model.\n",
    "\n",
    "For basic questions about spaCy, refer to the documentation [here](https://spacy.io/usage/spacy-101)."
   ]
  },
  {
   "cell_type": "code",
   "execution_count": 14,
   "metadata": {},
   "outputs": [
    {
     "name": "stdout",
     "output_type": "stream",
     "text": [
      "Defaulting to user installation because normal site-packages is not writeable\n",
      "Collecting fr-core-news-sm==3.7.0\n",
      "  Downloading https://github.com/explosion/spacy-models/releases/download/fr_core_news_sm-3.7.0/fr_core_news_sm-3.7.0-py3-none-any.whl (16.3 MB)\n",
      "\u001b[2K     \u001b[38;2;114;156;31m━━━━━━━━━━━━━━━━━━━━━━━━━━━━━━━━━━━━━━━━\u001b[0m \u001b[32m16.3/16.3 MB\u001b[0m \u001b[31m1.2 MB/s\u001b[0m eta \u001b[36m0:00:00\u001b[0mm eta \u001b[36m0:00:01\u001b[0m[36m0:00:01\u001b[0m\n",
      "\u001b[?25hRequirement already satisfied: spacy<3.8.0,>=3.7.0 in /home/ensimag/.local/lib/python3.10/site-packages (from fr-core-news-sm==3.7.0) (3.7.4)\n",
      "Requirement already satisfied: murmurhash<1.1.0,>=0.28.0 in /home/ensimag/.local/lib/python3.10/site-packages (from spacy<3.8.0,>=3.7.0->fr-core-news-sm==3.7.0) (1.0.10)\n",
      "Requirement already satisfied: tqdm<5.0.0,>=4.38.0 in /home/ensimag/.local/lib/python3.10/site-packages (from spacy<3.8.0,>=3.7.0->fr-core-news-sm==3.7.0) (4.66.2)\n",
      "Requirement already satisfied: numpy>=1.19.0 in /usr/local/lib/python3.10/dist-packages (from spacy<3.8.0,>=3.7.0->fr-core-news-sm==3.7.0) (1.24.3)\n",
      "Requirement already satisfied: jinja2 in /usr/local/lib/python3.10/dist-packages (from spacy<3.8.0,>=3.7.0->fr-core-news-sm==3.7.0) (3.1.2)\n",
      "Requirement already satisfied: packaging>=20.0 in /usr/lib/python3/dist-packages (from spacy<3.8.0,>=3.7.0->fr-core-news-sm==3.7.0) (21.3)\n",
      "Requirement already satisfied: thinc<8.3.0,>=8.2.2 in /home/ensimag/.local/lib/python3.10/site-packages (from spacy<3.8.0,>=3.7.0->fr-core-news-sm==3.7.0) (8.2.3)\n",
      "Requirement already satisfied: pydantic!=1.8,!=1.8.1,<3.0.0,>=1.7.4 in /home/ensimag/.local/lib/python3.10/site-packages (from spacy<3.8.0,>=3.7.0->fr-core-news-sm==3.7.0) (2.6.3)\n",
      "Requirement already satisfied: langcodes<4.0.0,>=3.2.0 in /home/ensimag/.local/lib/python3.10/site-packages (from spacy<3.8.0,>=3.7.0->fr-core-news-sm==3.7.0) (3.3.0)\n",
      "Requirement already satisfied: cymem<2.1.0,>=2.0.2 in /home/ensimag/.local/lib/python3.10/site-packages (from spacy<3.8.0,>=3.7.0->fr-core-news-sm==3.7.0) (2.0.8)\n",
      "Requirement already satisfied: spacy-loggers<2.0.0,>=1.0.0 in /home/ensimag/.local/lib/python3.10/site-packages (from spacy<3.8.0,>=3.7.0->fr-core-news-sm==3.7.0) (1.0.5)\n",
      "Requirement already satisfied: srsly<3.0.0,>=2.4.3 in /home/ensimag/.local/lib/python3.10/site-packages (from spacy<3.8.0,>=3.7.0->fr-core-news-sm==3.7.0) (2.4.8)\n",
      "Requirement already satisfied: typer<0.10.0,>=0.3.0 in /home/ensimag/.local/lib/python3.10/site-packages (from spacy<3.8.0,>=3.7.0->fr-core-news-sm==3.7.0) (0.9.0)\n",
      "Requirement already satisfied: weasel<0.4.0,>=0.1.0 in /home/ensimag/.local/lib/python3.10/site-packages (from spacy<3.8.0,>=3.7.0->fr-core-news-sm==3.7.0) (0.3.4)\n",
      "Requirement already satisfied: setuptools in /usr/lib/python3/dist-packages (from spacy<3.8.0,>=3.7.0->fr-core-news-sm==3.7.0) (59.6.0)\n",
      "Requirement already satisfied: smart-open<7.0.0,>=5.2.1 in /home/ensimag/.local/lib/python3.10/site-packages (from spacy<3.8.0,>=3.7.0->fr-core-news-sm==3.7.0) (6.4.0)\n",
      "Requirement already satisfied: requests<3.0.0,>=2.13.0 in /usr/local/lib/python3.10/dist-packages (from spacy<3.8.0,>=3.7.0->fr-core-news-sm==3.7.0) (2.31.0)\n",
      "Requirement already satisfied: preshed<3.1.0,>=3.0.2 in /home/ensimag/.local/lib/python3.10/site-packages (from spacy<3.8.0,>=3.7.0->fr-core-news-sm==3.7.0) (3.0.9)\n",
      "Requirement already satisfied: spacy-legacy<3.1.0,>=3.0.11 in /home/ensimag/.local/lib/python3.10/site-packages (from spacy<3.8.0,>=3.7.0->fr-core-news-sm==3.7.0) (3.0.12)\n",
      "Requirement already satisfied: wasabi<1.2.0,>=0.9.1 in /home/ensimag/.local/lib/python3.10/site-packages (from spacy<3.8.0,>=3.7.0->fr-core-news-sm==3.7.0) (1.1.2)\n",
      "Requirement already satisfied: catalogue<2.1.0,>=2.0.6 in /home/ensimag/.local/lib/python3.10/site-packages (from spacy<3.8.0,>=3.7.0->fr-core-news-sm==3.7.0) (2.0.10)\n",
      "Requirement already satisfied: typing-extensions>=4.6.1 in /home/ensimag/.local/lib/python3.10/site-packages (from pydantic!=1.8,!=1.8.1,<3.0.0,>=1.7.4->spacy<3.8.0,>=3.7.0->fr-core-news-sm==3.7.0) (4.10.0)\n",
      "Requirement already satisfied: annotated-types>=0.4.0 in /home/ensimag/.local/lib/python3.10/site-packages (from pydantic!=1.8,!=1.8.1,<3.0.0,>=1.7.4->spacy<3.8.0,>=3.7.0->fr-core-news-sm==3.7.0) (0.6.0)\n",
      "Requirement already satisfied: pydantic-core==2.16.3 in /home/ensimag/.local/lib/python3.10/site-packages (from pydantic!=1.8,!=1.8.1,<3.0.0,>=1.7.4->spacy<3.8.0,>=3.7.0->fr-core-news-sm==3.7.0) (2.16.3)\n",
      "Requirement already satisfied: charset-normalizer<4,>=2 in /usr/local/lib/python3.10/dist-packages (from requests<3.0.0,>=2.13.0->spacy<3.8.0,>=3.7.0->fr-core-news-sm==3.7.0) (3.2.0)\n",
      "Requirement already satisfied: certifi>=2017.4.17 in /usr/lib/python3/dist-packages (from requests<3.0.0,>=2.13.0->spacy<3.8.0,>=3.7.0->fr-core-news-sm==3.7.0) (2020.6.20)\n",
      "Requirement already satisfied: idna<4,>=2.5 in /usr/lib/python3/dist-packages (from requests<3.0.0,>=2.13.0->spacy<3.8.0,>=3.7.0->fr-core-news-sm==3.7.0) (3.3)\n",
      "Requirement already satisfied: urllib3<3,>=1.21.1 in /usr/lib/python3/dist-packages (from requests<3.0.0,>=2.13.0->spacy<3.8.0,>=3.7.0->fr-core-news-sm==3.7.0) (1.26.5)\n",
      "Requirement already satisfied: blis<0.8.0,>=0.7.8 in /home/ensimag/.local/lib/python3.10/site-packages (from thinc<8.3.0,>=8.2.2->spacy<3.8.0,>=3.7.0->fr-core-news-sm==3.7.0) (0.7.11)\n",
      "Requirement already satisfied: confection<1.0.0,>=0.0.1 in /home/ensimag/.local/lib/python3.10/site-packages (from thinc<8.3.0,>=8.2.2->spacy<3.8.0,>=3.7.0->fr-core-news-sm==3.7.0) (0.1.4)\n",
      "Requirement already satisfied: click<9.0.0,>=7.1.1 in /usr/local/lib/python3.10/dist-packages (from typer<0.10.0,>=0.3.0->spacy<3.8.0,>=3.7.0->fr-core-news-sm==3.7.0) (8.1.7)\n",
      "Requirement already satisfied: cloudpathlib<0.17.0,>=0.7.0 in /home/ensimag/.local/lib/python3.10/site-packages (from weasel<0.4.0,>=0.1.0->spacy<3.8.0,>=3.7.0->fr-core-news-sm==3.7.0) (0.16.0)\n",
      "Requirement already satisfied: MarkupSafe>=2.0 in /usr/local/lib/python3.10/dist-packages (from jinja2->spacy<3.8.0,>=3.7.0->fr-core-news-sm==3.7.0) (2.1.3)\n",
      "\u001b[38;5;2m✔ Download and installation successful\u001b[0m\n",
      "You can now load the package via spacy.load('fr_core_news_sm')\n"
     ]
    }
   ],
   "source": [
    "!python -m spacy download fr_core_news_sm"
   ]
  },
  {
   "cell_type": "code",
   "execution_count": 15,
   "metadata": {},
   "outputs": [],
   "source": [
    "import spacy\n",
    "from spacy.lang.fr.examples import sentences \n",
    "nlp = spacy.load(\"fr_core_news_sm\")"
   ]
  },
  {
   "cell_type": "markdown",
   "metadata": {},
   "source": [
    "The ````nlp```` object can be used to analyze documents. For example:\n",
    "\n",
    "````doc_analyzed = nlp(\"Hello world\")\n",
    "doc_analyzed\n",
    ">>> Hello world\n",
    "type(doc_analyzed)\n",
    ">>> spacy.tokens.doc.Doc\n",
    "````"
   ]
  },
  {
   "cell_type": "code",
   "execution_count": 16,
   "metadata": {},
   "outputs": [
    {
     "data": {
      "text/plain": [
       "spacy.tokens.doc.Doc"
      ]
     },
     "execution_count": 16,
     "metadata": {},
     "output_type": "execute_result"
    }
   ],
   "source": [
    "doc = nlp(one_text)\n",
    "type(doc)"
   ]
  },
  {
   "cell_type": "code",
   "execution_count": 18,
   "metadata": {},
   "outputs": [
    {
     "name": "stdout",
     "output_type": "stream",
     "text": [
      "patricia martin que voici que voilà \n",
      " oh bonjour nicolas stoufflet \n",
      " france - inter sept heures \n",
      " le journal simon tivolle \n",
      " bonjour \n",
      " lundi sept décembre \n",
      " deux incendies cette nuit en région_parisienne dans une maison de retraite de livry - gargan en seine-saint-denis sept personnes ont péri dans les flammes \n",
      " et puis dans le neuvième arrondissement de paris le feu a pris dans un immeuble d ' habitation et trois personnes ont été tuées \n",
      " le sculpteur césar est décédé hier à l ' âge de soixante dix-sept ans il était devenu célèbre grâce à ses\n"
     ]
    }
   ],
   "source": [
    "nlp.max_length = 200000000  \n",
    "with open(\"RADIOS.txt\", \"r\") as file:\n",
    "    text = file.read(1024 * 1024) \n",
    "    if len(text) < nlp.max_length:\n",
    "        doc = nlp(text)\n",
    "        print(' '.join(token.text for token in doc[:100]))\n",
    "    else:\n",
    "        print(\"Le texte dépasse la limite maximale autorisée après ajustement.\")"
   ]
  },
  {
   "cell_type": "code",
   "execution_count": 29,
   "metadata": {},
   "outputs": [
    {
     "name": "stdout",
     "output_type": "stream",
     "text": [
      "patricia martin que voici que voilà\n",
      "oh bonjour nicolas stoufflet\n",
      "france-inter sept heures\n",
      "le journal simon tivolle\n",
      "bonjour\n",
      "lundi sept décembre\n",
      "deux incendies cette nuit en région_parisienne dans une maison de retraite de livry-gargan en seine-saint-denis sept personnes ont péri dans les flammes\n",
      "et puis dans le neuvième arrondissement de paris le feu a pris dans un immeuble d' habitation et trois personnes ont été tuées\n",
      "le sculpteur césar est décédé hier à l' âge de soixante dix-sept ans il était devenu célèbre grâce à ses\n"
     ]
    }
   ],
   "source": [
    "entire_doc = nlp(text)\n",
    "\n",
    "print(entire_doc[:10])"
   ]
  },
  {
   "cell_type": "code",
   "execution_count": null,
   "metadata": {},
   "outputs": [],
   "source": []
  },
  {
   "cell_type": "markdown",
   "metadata": {},
   "source": [
    "\n",
    "**Question**: Use spaCy to list each token in the ````text```` of the document with id 1500.\n",
    "\n",
    "*Hint: spacy.tokens.doc.Doc is an iterable*"
   ]
  },
  {
   "cell_type": "code",
   "execution_count": 31,
   "metadata": {},
   "outputs": [
    {
     "name": "stdout",
     "output_type": "stream",
     "text": [
      "c'\n",
      "est\n",
      "pour\n",
      "ça\n",
      "que\n",
      "nous\n",
      "sommes\n",
      "associés\n",
      "à\n",
      "elle\n"
     ]
    }
   ],
   "source": [
    "doc = nlp(df_radios.iloc[1500].text)\n",
    "for token in doc:\n",
    "    print(token.text)"
   ]
  },
  {
   "cell_type": "code",
   "execution_count": 32,
   "metadata": {},
   "outputs": [],
   "source": [
    "doc = nlp(df_radios.iloc[1500].text)"
   ]
  },
  {
   "cell_type": "markdown",
   "metadata": {},
   "source": [
    "**Question**: List the POS of every token from the previous exercise. Do you agree with spaCy?\n",
    "\n",
    "*Hint: use token.pos_*"
   ]
  },
  {
   "cell_type": "code",
   "execution_count": 33,
   "metadata": {},
   "outputs": [
    {
     "name": "stdout",
     "output_type": "stream",
     "text": [
      "PRON\n",
      "AUX\n",
      "ADP\n",
      "PRON\n",
      "PRON\n",
      "PRON\n",
      "AUX\n",
      "VERB\n",
      "ADP\n",
      "PRON\n"
     ]
    }
   ],
   "source": [
    "doc = nlp(df_radios.iloc[1500].text)\n",
    "for token in doc:\n",
    "    print(token.pos_)"
   ]
  },
  {
   "cell_type": "markdown",
   "metadata": {},
   "source": [
    "The lemma of a term is the simplest and most distilled version of the term, without prefixes, suffixes, etc. Converting terms to lemmas can be useful in order to reduce the vocabulary size of a corpus and group terms into equivalence classes. For example, \"run\", \"runs\", \"running\", and \"ran\" all share roughly the same semantic meaning, and in some contexts (though not all!) should be treated the same way.\n",
    "\n",
    "**Question**: extract the lemmas from the previous exercise. Which terms stay the same, and which differ? In what ways do they differ?\n",
    "\n",
    "**-** Lemmatization changes verbs to their infinitive form ( \"est\" and \"sommes\" to \"être\"), while pronouns and prepositions largely remain unchanged. This process simplifies text to its base form. However, pronouns maintain their original form, preserving sentence integrity.\n",
    "\n",
    "*Hint: use token.lemma_*"
   ]
  },
  {
   "cell_type": "code",
   "execution_count": 34,
   "metadata": {},
   "outputs": [
    {
     "name": "stdout",
     "output_type": "stream",
     "text": [
      "ce\n",
      "être\n",
      "pour\n",
      "cela\n",
      "que\n",
      "nous\n",
      "être\n",
      "associer\n",
      "à\n",
      "lui\n"
     ]
    }
   ],
   "source": [
    "doc = nlp(df_radios.iloc[1500].text)\n",
    "for token in doc:\n",
    "    print(token.lemma_)"
   ]
  },
  {
   "cell_type": "markdown",
   "metadata": {},
   "source": [
    "**Question**: How many unique terms are there among all the texts? How many unique *lemmas* are there among all the texts?\n",
    "\n",
    "**-** There are 14988 unique terms among all the texts analyzed.\n",
    "\n",
    "**-** There are 10876 unique lemmas among all the texts analyzed."
   ]
  },
  {
   "cell_type": "code",
   "execution_count": 56,
   "metadata": {},
   "outputs": [
    {
     "data": {
      "text/plain": [
       "14988"
      ]
     },
     "execution_count": 56,
     "metadata": {},
     "output_type": "execute_result"
    }
   ],
   "source": [
    "unique_terms = set()\n",
    "for token in entire_doc:\n",
    "    unique_terms.add(token.text)\n",
    "num_unique_terms = len(unique_terms)\n",
    "num_unique_terms"
   ]
  },
  {
   "cell_type": "code",
   "execution_count": 55,
   "metadata": {},
   "outputs": [
    {
     "data": {
      "text/plain": [
       "10876"
      ]
     },
     "execution_count": 55,
     "metadata": {},
     "output_type": "execute_result"
    }
   ],
   "source": [
    "unique_lemmas = set()\n",
    "\n",
    "for token in entire_doc:\n",
    "    unique_lemmas.add(token.lemma_)\n",
    "\n",
    "num_unique_lemmas = len(unique_lemmas)\n",
    "num_unique_lemmas"
   ]
  },
  {
   "cell_type": "markdown",
   "metadata": {},
   "source": [
    "**Question**: Plot the distribution of POS over the all the texts."
   ]
  },
  {
   "cell_type": "code",
   "execution_count": 36,
   "metadata": {},
   "outputs": [],
   "source": [
    "dict_pos  = Counter()\n",
    "\n",
    "dict_pos.update([token.pos_ for token in entire_doc])"
   ]
  },
  {
   "cell_type": "code",
   "execution_count": 37,
   "metadata": {},
   "outputs": [
    {
     "data": {
      "image/png": "[encoded data removed]",
      "text/plain": [
       "<Figure size 1000x600 with 1 Axes>"
      ]
     },
     "metadata": {},
     "output_type": "display_data"
    }
   ],
   "source": [
    "pos = list(dict_pos.keys())\n",
    "count = list(dict_pos.values())\n",
    "plt.figure(figsize=(10, 6))\n",
    "plt.bar(pos, count)\n",
    "\n",
    "plt.xlabel('POS')\n",
    "plt.ylabel('Count')\n",
    "plt.title('Distribution of POS')\n",
    "\n",
    "plt.show()"
   ]
  },
  {
   "cell_type": "markdown",
   "metadata": {},
   "source": [
    "**Question**: Plot the distribution of the 100 most common words over the all the texts, provided that they are not space or punctuation. Use a log scale for the y axes and describe the graph: the y axis should be frequency, and the x axis should be words sorted by frequency.\n",
    "\n",
    "*Hint: see [Zipf's law](https://en.wikipedia.org/wiki/Zipf%27s_law)*"
   ]
  },
  {
   "cell_type": "code",
   "execution_count": 38,
   "metadata": {},
   "outputs": [
    {
     "data": {
      "image/png": "[encoded data removed]",
      "text/plain": [
       "<Figure size 1800x600 with 1 Axes>"
      ]
     },
     "metadata": {},
     "output_type": "display_data"
    }
   ],
   "source": [
    "word_freq = Counter()\n",
    "\n",
    "word_freq.update([token.text.lower() for token in entire_doc if not token.is_space and not token.is_punct])\n",
    "\n",
    "sorted_word_freq = dict(sorted(word_freq.items(), key=lambda item: item[1], reverse=True))\n",
    "\n",
    "top_100_words = list(sorted_word_freq.keys())[:100]\n",
    "top_100_freq = list(sorted_word_freq.values())[:100]\n",
    "\n",
    "plt.figure(figsize=(18, 6))\n",
    "plt.bar(range(len(top_100_words)), top_100_freq)\n",
    "plt.xticks(range(len(top_100_words)), top_100_words, rotation=90)\n",
    "plt.yscale('log')\n",
    "plt.xlabel('Words')\n",
    "plt.ylabel('Frequency (log scale)')\n",
    "plt.title('Distribution of the 100 Most Common Words')\n",
    "plt.show()"
   ]
  },
  {
   "cell_type": "markdown",
   "metadata": {},
   "source": [
    "## Stop words\n",
    "\n",
    "Stop words are words that, under some frameworks, contribute marginal semantic value, but are important for syntax. For example, \"the\", \"and\", \"such\", etc.\n",
    "\n",
    "**Question**: In what kind of analysis can we strike stop words without worrying about losing information? In what kind of analysis might we want to keep them around?\n",
    "\n",
    "**-** Removing stop words is beneficial in analyses to extract keyword, topic modeling, and text classification. Bbecause it reduces noise and highlights significant words.\n",
    "\n",
    "**-** In analyses where grammatical structure and nuanced meaning are crucial (advanced sentiment analysis, machine translation), stop words is important to preserve the integrity of the language.\n",
    "\n",
    "\n",
    "**Question**: Write a function:\n",
    "\n",
    "````def clean(sentence)````\n",
    "\n",
    "that strikes all stop words, replaces each remaining token with its lemma. Create a cleaned version of each abstract, and save this cleaned version as a new column of the dataframe called \"text_clean\"."
   ]
  },
  {
   "cell_type": "code",
   "execution_count": 39,
   "metadata": {},
   "outputs": [],
   "source": [
    "def clean(sentence):\n",
    "    doc = nlp(sentence)\n",
    "    cleaned_tokens = [token.lemma_ for token in doc if not token.is_stop]\n",
    "    cleaned_sentence = \" \".join(cleaned_tokens)\n",
    "    return cleaned_sentence\n",
    "\n",
    "df_radios[\"text_clean\"] = df_radios.text.apply(clean)"
   ]
  },
  {
   "cell_type": "code",
   "execution_count": 40,
   "metadata": {},
   "outputs": [],
   "source": [
    "entire_clean_doc = nlp(\" \".join(df_radios.text_clean))"
   ]
  },
  {
   "cell_type": "markdown",
   "metadata": {},
   "source": [
    "## Dependencies\n",
    "spaCy calculates dependencies between different tokens:"
   ]
  },
  {
   "cell_type": "code",
   "execution_count": 41,
   "metadata": {},
   "outputs": [
    {
     "name": "stdout",
     "output_type": "stream",
     "text": [
      "bonjour ADP bonjour\n"
     ]
    }
   ],
   "source": [
    "exp_doc = nlp(one_text)\n",
    "for word in exp_doc:\n",
    "   print(word.text, word.tag_, word.head)"
   ]
  },
  {
   "cell_type": "markdown",
   "metadata": {},
   "source": [
    "We can visualize this using dispacy, a visualization library:"
   ]
  },
  {
   "cell_type": "code",
   "execution_count": 42,
   "metadata": {},
   "outputs": [
    {
     "data": {
      "text/html": [
       "<span class=\"tex2jax_ignore\"><svg xmlns=\"http://www.w3.org/2000/svg\" xmlns:xlink=\"http://www.w3.org/1999/xlink\" xml:lang=\"fr\" id=\"ff53a450ac3a41ef93508730b360299e-0\" class=\"displacy\" width=\"180\" height=\"137.0\" direction=\"ltr\" style=\"max-width: none; height: 137.0px; color: #000000; background: #ffffff; font-family: Arial; direction: ltr\">\n",
       "<text class=\"displacy-token\" fill=\"currentColor\" text-anchor=\"middle\" y=\"47.0\">\n",
       "    <tspan class=\"displacy-word\" fill=\"currentColor\" x=\"50\">bonjour</tspan>\n",
       "    <tspan class=\"displacy-tag\" dy=\"2em\" fill=\"currentColor\" x=\"50\">ADP</tspan>\n",
       "</text>\n",
       "</svg></span>"
      ],
      "text/plain": [
       "<IPython.core.display.HTML object>"
      ]
     },
     "metadata": {},
     "output_type": "display_data"
    }
   ],
   "source": [
    "from spacy import displacy\n",
    "displacy.render(exp_doc, style='dep', jupyter=True, options={'distance': 130})"
   ]
  },
  {
   "cell_type": "markdown",
   "metadata": {},
   "source": [
    "**Question**: Visualize a random title from the dataframe - describe the visualization.\n",
    "\n",
    "**-** The visual representation shows the entities recognized in the text (person names, locations) and the grammatical structure, showing how words relate to each other."
   ]
  },
  {
   "cell_type": "markdown",
   "metadata": {},
   "source": [
    "## NER\n",
    "\n",
    "spaCy can determine named entities."
   ]
  },
  {
   "cell_type": "code",
   "execution_count": 43,
   "metadata": {},
   "outputs": [
    {
     "name": "stdout",
     "output_type": "stream",
     "text": [
      "ENT:  Joe Biden PER Named person or family.\n"
     ]
    }
   ],
   "source": [
    "for ent in nlp(\"Joe Biden is the president of the USA\").ents:\n",
    "    print(\"ENT: \", ent.text, ent.label_, spacy.explain(ent.label_))"
   ]
  },
  {
   "cell_type": "markdown",
   "metadata": {},
   "source": [
    "**Question**: calculate the ten most common named entities and the five most common labels among the texts.\n",
    "\n",
    "**-** The ten most common named entities identified are:\n",
    "\n",
    "France (691 mentions),\n",
    "Irak (450 mentions),\n",
    "Monsieur (318 mentions),\n",
    "Israël (302 mentions),\n",
    "État (271 mentions),\n",
    "Saddam Hussein (251 mentions),\n",
    "Europe (229 mentions),\n",
    "Ce Qu (223 mentions),\n",
    "Hein (204 mentions),\n",
    "Washington (168 mentions).\n",
    "\n",
    "They highlight the frequent discussion topics or subjects within the corpus, including countries, notable individuals, and general nouns.\n",
    "\n",
    "**-** The five most common labels (entity types) are:\n",
    "\n",
    "PER (Person): 11,637 occurrences, \n",
    "\n",
    "LOC (Location): 6,966 occurrences,\n",
    "\n",
    "ORG (Organization): 3,169 occurrences,\n",
    "\n",
    "MISC (Miscellaneous): 2,275 occurrences.\n"
   ]
  },
  {
   "cell_type": "code",
   "execution_count": 44,
   "metadata": {},
   "outputs": [
    {
     "data": {
      "text/plain": [
       "([('france', 691),\n",
       "  ('irak', 450),\n",
       "  ('Monsieur', 318),\n",
       "  ('israël', 302),\n",
       "  ('état', 271),\n",
       "  ('saddam hussein', 251),\n",
       "  ('europe', 229),\n",
       "  ('ce_qu', 223),\n",
       "  ('hein', 204),\n",
       "  ('washington', 168)],\n",
       " [('PER', 11637), ('LOC', 6966), ('ORG', 3169), ('MISC', 2275)])"
      ]
     },
     "execution_count": 44,
     "metadata": {},
     "output_type": "execute_result"
    }
   ],
   "source": [
    "named_entities = [ent.text for ent in entire_clean_doc.ents]\n",
    "named_entities_freq = Counter(named_entities)\n",
    "top_10_named_entities = named_entities_freq.most_common(10)\n",
    "\n",
    "\n",
    "labels = [ent.label_ for ent in entire_clean_doc.ents]\n",
    "labels_freq = Counter(labels)\n",
    "top_5_labels = labels_freq.most_common(5)\n",
    "\n",
    "top_10_named_entities, top_5_labels"
   ]
  },
  {
   "cell_type": "markdown",
   "metadata": {},
   "source": [
    "## TF-IDF\n",
    "\n",
    "One of the most important statistics we can calculate for a document is the TF-IDF score. This stands for \"term frequency-inverse document frequency\" score, and it is a measure of the importance of each word to a given document, in the context of the corpus of documents. For each word in each document, we calculate the following ratio:\n",
    "\n",
    "${TF_{word; doc}}\\times{IDF_{word; doc}}$\n",
    "\n",
    "$TF_{word; doc} = \\frac{\\text{Total counts of word in doc}}{\\text{Number of terms in doc}}$\n",
    "\n",
    "$IDF_{word; doc} = \\log{\\left(\\frac{|\\text{corpus}|}{\\text{Number of docs containing word}}\\right)}$\n",
    "\n",
    "To have a high TF-IDF score in a document, a word must occur frequently in a document, while appearing rarely in others.\n",
    "\n",
    "**Question**: Give the limits of TF and IDF for a word/document pair, and give an example of a word-document pair where this might occur (for example, word=\"Hello\", doc=Wikipedia page for greetings, corpus=all of Wikipedia).\n",
    "\n",
    "**-** TF can range from 0 to 1, where 0 indicates the word does not occur in the document, and 1 indicates the word occurs in every term of the document.\n",
    "\n",
    "IDF is greater than or equal to 0. The IDF value approaches 0 as the word appears in more documents, making it less unique.\n",
    "\n",
    "**-** Example: A word \"unique\" appearing many times in a specific document but rarely elsewhere in the corpus would have a high TF-IDF score in that document, indicating its significance.\n",
    "\n",
    "**-** Calculation Results: We calculated the TF-IDF score of \"radio\" in a specific document, we obtained 1.6045803908070724. This score suggests that \"radio\" is a relatively significant term in that document within the context of the entire corpus.\n"
   ]
  },
  {
   "cell_type": "markdown",
   "metadata": {},
   "source": [
    "**Question**: Code the functions TF and IDF:\n"
   ]
  },
  {
   "cell_type": "code",
   "execution_count": 45,
   "metadata": {},
   "outputs": [
    {
     "data": {
      "text/plain": [
       "1.6045803908070724"
      ]
     },
     "execution_count": 45,
     "metadata": {},
     "output_type": "execute_result"
    }
   ],
   "source": [
    "def tf(word, document):\n",
    "    doc = nlp(document)\n",
    "    counter = sum(1 for token in doc if token.text == word)\n",
    "    total_words = len(doc)\n",
    "    if total_words == 0:\n",
    "        return 0\n",
    "    return counter / total_words\n",
    "\n",
    "def idf(word, all_documents):\n",
    "    num_doc_cont_word = sum(1 for doc in all_documents if word in doc)\n",
    "    corpus = len(all_documents)\n",
    "    return math.log(corpus / (1+num_doc_cont_word))\n",
    "\n",
    "def tf_idf(word, document, all_documents):\n",
    "    return tf(word, document)*idf(word, all_documents)\n",
    "\n",
    "#test\n",
    "my_text = df_radios.iloc[15450].text_clean\n",
    "tf_idf(\"radio\", my_text, df_radios.text_clean)"
   ]
  },
  {
   "cell_type": "code",
   "execution_count": 46,
   "metadata": {},
   "outputs": [],
   "source": [
    "#Top 30 mots ayant la plus grande frequence\n",
    "word_freq = Counter()\n",
    "word_freq.update([token.text.lower() for token in entire_clean_doc if not token.is_space and not token.is_punct])\n",
    "sorted_word_freq = dict(sorted(word_freq.items(), key=lambda item: item[1], reverse=True))\n",
    "top_10_words = list(sorted_word_freq.keys())[:10]"
   ]
  },
  {
   "cell_type": "markdown",
   "metadata": {},
   "source": [
    "**Question**: What is the word with the highest and lowest TF-IDF score?\n",
    "\n",
    "**-** The analysis revealed \"defar\" as the word with the highest TF-IDF score (0.9374611099512729) in a given document, indicating its unique importance to that text. \n",
    "\n",
    "**-** The word \"l\" had the lowest score (0.023508668841296057), suggesting it's common and less significant within the context of the document."
   ]
  },
  {
   "cell_type": "code",
   "execution_count": 47,
   "metadata": {},
   "outputs": [
    {
     "data": {
      "text/plain": [
       "0                                          patricia martin\n",
       "1                              oh bonjour nicola stoufflet\n",
       "2                                     france - inter heure\n",
       "3                                    journal simon tivolle\n",
       "4                                                  bonjour\n",
       "                               ...                        \n",
       "35351    sport athlétisme terminer triple champion mond...\n",
       "35352    l ' éthiopien defar meseret entrer temps minut...\n",
       "35353    fin édition rappel principal titre orier islam...\n",
       "35354    libéria l ' armée charles taylor alerte maximu...\n",
       "35355    aimable attention rappeler être l ' écoute d '...\n",
       "Name: text_clean, Length: 35356, dtype: object"
      ]
     },
     "execution_count": 47,
     "metadata": {},
     "output_type": "execute_result"
    }
   ],
   "source": [
    "df_radios.text_clean"
   ]
  },
  {
   "cell_type": "code",
   "execution_count": 48,
   "metadata": {},
   "outputs": [],
   "source": [
    "def max_min_tfidf(my_text):\n",
    "    max_score = 0\n",
    "    word_max_score = \"\"\n",
    "    min_score = float('inf')\n",
    "    word_min_score = \"\"\n",
    "    for word in my_text.split():        \n",
    "        score = tf_idf(word, my_text, df_radios.text_clean)\n",
    "        if score > max_score:\n",
    "            max_score = score\n",
    "            word_max_score = word\n",
    "        if score < min_score:\n",
    "            min_score = score\n",
    "            word_min_score = word\n",
    "    print(f\"Max score for {word_max_score}: {max_score}\")\n",
    "    print(f\"Min score for {word_min_score}: {min_score}\")"
   ]
  },
  {
   "cell_type": "code",
   "execution_count": 49,
   "metadata": {},
   "outputs": [
    {
     "name": "stdout",
     "output_type": "stream",
     "text": [
      "Max score for defar: 0.9374611099512729\n",
      "Min score for l: 0.023508668841296057\n"
     ]
    }
   ],
   "source": [
    "my_text = df_radios.text_clean.iloc[35352]\n",
    "max_min_tfidf(my_text)"
   ]
  },
  {
   "cell_type": "markdown",
   "metadata": {},
   "source": [
    "**Question**: If we took each document and duplicated it in place, i.e.:\n",
    "\n",
    "a document \"hello world\" would become \"hello world hello world\", how would the tf-idf score of any document-word pair change?\n",
    "\n",
    "**-** Duplicating a document in place (e.g., making \"hello world\" into \"hello world hello world\") would not change the TF-IDF scores for its words. The increase in term frequency (TF) is offset by the document's increased length, and IDF remains unchanged since the corpus's document count is constant.\n",
    "\n",
    "What about if instead of duplicating in place, we doubled the size of the corpus, i.e.\n",
    "\n",
    "if document \"hello world\" is in the corpus once, we add a second copy so now it is in the corpus twice. How would the tf-idf score of any document-word pair change now?\n",
    "\n",
    "**-** Doubling the size of the corpus by adding a duplicate of each document will affect the IDF values. \n",
    "\n",
    "**-** The IDF for each word decreases because the document count for each word increases, potentially reducing the TF-IDF scores. However, TF remains unchanged since the document content doesn't change."
   ]
  },
  {
   "cell_type": "markdown",
   "metadata": {},
   "source": [
    "If we were to duplicate each document within the corpus, it wouldn't affect the IDF value. This is because whether a word appears in a document or not remains unchanged after duplication, and the corpus size remains constant.\n",
    "\n",
    "Similarly, the TF value wouldn't be altered because the ratio of the total counts of a word to the number of terms in the document remains the same. \n",
    "\n",
    "$newTF_{word; doc} = \\frac{2*\\text{Total counts of word in doc}}{2*\\text{Number of terms in doc}} = TF_{word; doc}$\n",
    "\n",
    "Hence, the new TF value after duplication ($newTF_{word; doc}$) would be equal to the original TF value ($TF_{word; doc}$). Consequently, duplicating the documents would not alter the TF-IDF score.\n"
   ]
  },
  {
   "cell_type": "markdown",
   "metadata": {},
   "source": [
    "If document \"hello world\" is in the corpus once, we add a second copy so now it is in the corpus twice.\n",
    "\n",
    "The TF value wouldn't change because the document didn't change.\n",
    "\n",
    "But the IDF would change because the number of corpus and the number of docs containing word would increase of one\n",
    "\n",
    "Therefore altering the TF-IDF score"
   ]
  },
  {
   "cell_type": "markdown",
   "metadata": {},
   "source": [
    "**Question**: What could be a potential use-case for the TF-IDF score in practice?\n",
    "\n",
    "**-** TF-IDF is particularly could be used in search engines and information retrieval systems. It helps in ranking documents based on their relevance to a search query. Words that are frequent in a document but rare across the corpus are likely to be more relevant, allowing such documents to be ranked higher in search results. It can increase the accuracy and relevance of search operations."
   ]
  },
  {
   "cell_type": "markdown",
   "metadata": {},
   "source": [
    "### Final Comments \n",
    "\n",
    "Add your conclusions about this lab. You can include your level of satisfation with your work and your opinion on the length and difficulty of the exercises."
   ]
  },
  {
   "cell_type": "markdown",
   "metadata": {},
   "source": [
    "**-** Conclusions: The exercise helped us to demonstrat the significance of TF-IDF in understanding the relevance of words within a document relative to a corpus. Implementing the TF-IDF calculation from scratch was particularly interesting.\n",
    "\n",
    "**-** Level of Satisfaction: High. The exercise had a good balance between theory and practical application.\n",
    "\n",
    "**-** Exercise Length and Difficulty: The length was appropriate, but a bit long, since we needed to continue at home due to the waiting execution time, and the personal computer crached more than once. The difficulty level was moderate, challenging enough to be engaging but not discouraging.\n",
    "\n",
    "**-** Key Learning: The practical application of TF-IDF in a dataset, exploration of document and corpus TF-IDF scores changes."
   ]
  }
 ],
 "metadata": {
  "kernelspec": {
   "display_name": "Python 3 (ipykernel)",
   "language": "python",
   "name": "python3"
  },
  "language_info": {
   "codemirror_mode": {
    "name": "ipython",
    "version": 3
   },
   "file_extension": ".py",
   "mimetype": "text/x-python",
   "name": "python",
   "nbconvert_exporter": "python",
   "pygments_lexer": "ipython3",
   "version": "3.10.12"
  }
 },
 "nbformat": 4,
 "nbformat_minor": 4
}
